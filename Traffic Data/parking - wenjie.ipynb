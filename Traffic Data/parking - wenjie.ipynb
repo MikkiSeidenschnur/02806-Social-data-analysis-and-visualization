{
 "cells": [
  {
   "source": [
    "# 1.Prepare All Necessary Data"
   ],
   "cell_type": "markdown",
   "metadata": {}
  },
  {
   "source": [
    "## 1.1 Necessary package"
   ],
   "cell_type": "markdown",
   "metadata": {}
  },
  {
   "cell_type": "code",
   "execution_count": 94,
   "metadata": {},
   "outputs": [],
   "source": [
    "import pandas as pd \n",
    "import numpy as np\n",
    "from ast import literal_eval\n",
    "import sklearn\n",
    "# import sklearn.model_selection\n",
    "from sklearn.model_selection import train_test_split\n",
    "# Import the model we are using\n",
    "from sklearn.ensemble import RandomForestRegressor"
   ]
  },
  {
   "source": [
    "## 1.2 Source Data "
   ],
   "cell_type": "markdown",
   "metadata": {}
  },
  {
   "cell_type": "code",
   "execution_count": 2,
   "metadata": {},
   "outputs": [
    {
     "output_type": "execute_result",
     "data": {
      "text/plain": [
       "    Sættype Betalingsmåde  Automat                   Lokation  \\\n",
       "0  Betaling        Mønter     3595  COLBJØRNSENSGADE       15   \n",
       "1  Betaling        Mønter     1287  NYROPSGADE             27   \n",
       "2  Betaling        Mønter     1288                        NaN   \n",
       "3  Betaling  VISA Dankort     2442  WILLEMOESGADE          66   \n",
       "4  Betaling        Mønter     2184  POLITITORVET           14   \n",
       "\n",
       "                     Zone Dato/tid parkeringsstart Dato/tid parkeringsslut  \\\n",
       "0  200 - 200 - Grøn del 1      2015-01-01 00:00:00     2015-01-02 08:07:00   \n",
       "1  200 - 200 - Grøn del 1      2015-01-01 00:01:00     2015-01-02 08:17:00   \n",
       "2                   ? - ?      2015-01-01 00:01:00     2015-01-02 08:03:00   \n",
       "3  315 - 315 - Blå del 16      2015-01-01 00:01:00     2015-01-02 12:05:00   \n",
       "4  200 - 200 - Grøn del 1      2015-01-01 00:04:00     2015-01-02 08:03:00   \n",
       "\n",
       "       Beløb Kreditkortgebyr  \n",
       "0   2,00 DKK        0,00 DKK  \n",
       "1   5,00 DKK        0,00 DKK  \n",
       "2   1,00 DKK        0,00 DKK  \n",
       "3  45,00 DKK        0,50 DKK  \n",
       "4   1,00 DKK        0,00 DKK  "
      ],
      "text/html": "<div>\n<style scoped>\n    .dataframe tbody tr th:only-of-type {\n        vertical-align: middle;\n    }\n\n    .dataframe tbody tr th {\n        vertical-align: top;\n    }\n\n    .dataframe thead th {\n        text-align: right;\n    }\n</style>\n<table border=\"1\" class=\"dataframe\">\n  <thead>\n    <tr style=\"text-align: right;\">\n      <th></th>\n      <th>Sættype</th>\n      <th>Betalingsmåde</th>\n      <th>Automat</th>\n      <th>Lokation</th>\n      <th>Zone</th>\n      <th>Dato/tid parkeringsstart</th>\n      <th>Dato/tid parkeringsslut</th>\n      <th>Beløb</th>\n      <th>Kreditkortgebyr</th>\n    </tr>\n  </thead>\n  <tbody>\n    <tr>\n      <th>0</th>\n      <td>Betaling</td>\n      <td>Mønter</td>\n      <td>3595</td>\n      <td>COLBJØRNSENSGADE       15</td>\n      <td>200 - 200 - Grøn del 1</td>\n      <td>2015-01-01 00:00:00</td>\n      <td>2015-01-02 08:07:00</td>\n      <td>2,00 DKK</td>\n      <td>0,00 DKK</td>\n    </tr>\n    <tr>\n      <th>1</th>\n      <td>Betaling</td>\n      <td>Mønter</td>\n      <td>1287</td>\n      <td>NYROPSGADE             27</td>\n      <td>200 - 200 - Grøn del 1</td>\n      <td>2015-01-01 00:01:00</td>\n      <td>2015-01-02 08:17:00</td>\n      <td>5,00 DKK</td>\n      <td>0,00 DKK</td>\n    </tr>\n    <tr>\n      <th>2</th>\n      <td>Betaling</td>\n      <td>Mønter</td>\n      <td>1288</td>\n      <td>NaN</td>\n      <td>? - ?</td>\n      <td>2015-01-01 00:01:00</td>\n      <td>2015-01-02 08:03:00</td>\n      <td>1,00 DKK</td>\n      <td>0,00 DKK</td>\n    </tr>\n    <tr>\n      <th>3</th>\n      <td>Betaling</td>\n      <td>VISA Dankort</td>\n      <td>2442</td>\n      <td>WILLEMOESGADE          66</td>\n      <td>315 - 315 - Blå del 16</td>\n      <td>2015-01-01 00:01:00</td>\n      <td>2015-01-02 12:05:00</td>\n      <td>45,00 DKK</td>\n      <td>0,50 DKK</td>\n    </tr>\n    <tr>\n      <th>4</th>\n      <td>Betaling</td>\n      <td>Mønter</td>\n      <td>2184</td>\n      <td>POLITITORVET           14</td>\n      <td>200 - 200 - Grøn del 1</td>\n      <td>2015-01-01 00:04:00</td>\n      <td>2015-01-02 08:03:00</td>\n      <td>1,00 DKK</td>\n      <td>0,00 DKK</td>\n    </tr>\n  </tbody>\n</table>\n</div>"
     },
     "metadata": {},
     "execution_count": 2
    }
   ],
   "source": [
    "# read csv files\n",
    "# These files are all datasets from Internet without any modified. \n",
    "# We need to format them.\n",
    "\n",
    "# 1.\n",
    "# @ df_google_map : the places of interests getten from google_map(there are a lot of types here)\n",
    "df_google_map = pd.read_csv(\"final_result_from_googleMap.csv\")\n",
    "\n",
    "# df_transaction = pd.read_csv(\"Transaction/1508-parkomattransaktioner-august-15.csv\",encoding='iso-8859-1',engine='python',sep=';', quotechar='\"')\n",
    "\n",
    "# 2.\n",
    "# @ df_parkomat contains some data about the parking machines' geo information.\n",
    "df_parkomat =pd.read_csv(\"parkomat.csv\")\n",
    "\n",
    "\n",
    "# 3.\n",
    "# @ df_transaction contains all the parking data during the whole 2015.\n",
    "import glob\n",
    "path = r'./Transaction' # use your path\n",
    "all_files = glob.glob(path + \"/*.csv\")\n",
    "df_transaction = pd.concat((pd.read_csv(f, sep=';', encoding='iso-8859-1') for f in all_files))\n",
    "df_transaction['Dato/tid parkeringsstart'] = pd.to_datetime(df_transaction['Dato/tid parkeringsstart'],format='%d-%m-%Y, %H:%M')\n",
    "df_transaction['Dato/tid parkeringsslut'] = pd.to_datetime(df_transaction['Dato/tid parkeringsslut'],format='%d-%m-%Y, %H:%M')\n",
    "df_transaction = df_transaction.sort_values(by='Dato/tid parkeringsstart')"
   ]
  },
  {
   "source": [
    "## 1.3 Format these data\n",
    "### 1.3.1 Get All Types of Google_Map's Locations"
   ],
   "cell_type": "markdown",
   "metadata": {}
  },
  {
   "cell_type": "code",
   "execution_count": 3,
   "metadata": {},
   "outputs": [],
   "source": [
    "# get all the type names\n",
    "# get all the type names from google_map\n",
    "location_type = set([])\n",
    "for i in df_google_map['type']:\n",
    "    mlist = literal_eval(i)\n",
    "    for item in mlist:\n",
    "        location_type.add(item)\n",
    "\n",
    "\n",
    "# add these types to df (similar to one-hot code)\n",
    "for i in location_type:\n",
    "    df_parkomat.insert(len(df_parkomat.columns),i,0)\n",
    "    df_google_map.insert(len(df_google_map.columns),i,0)\n",
    "\n",
    "for i in range(len(df_google_map)):\n",
    "    for type_now in literal_eval(df_google_map.loc[i,'type']):\n",
    "        df_google_map.loc[i,type_now]=1\n"
   ]
  },
  {
   "source": [
    "### The types of locations in df_google_map (`location_type`) are following:\n",
    "> {'accounting',\n",
    " 'airport',\n",
    " 'amusement_park',\n",
    " 'aquarium',\n",
    " 'art_gallery',\n",
    " 'atm',\n",
    " 'bakery',\n",
    " 'bank',\n",
    " 'bar',\n",
    " 'beauty_salon',\n",
    " 'bicycle_store',\n",
    " 'book_store',\n",
    " 'bowling_alley',\n",
    " 'bus_station',\n",
    " 'cafe',\n",
    " 'car_dealer',\n",
    " 'car_rental',\n",
    " 'car_repair',\n",
    " 'car_wash',\n",
    " 'casino',\n",
    " 'cemetery',\n",
    " 'church',\n",
    " 'city_hall',\n",
    " 'clothing_store',\n",
    " 'convenience_store',\n",
    " 'courthouse',\n",
    " 'dentist',\n",
    " 'department_store',\n",
    " 'doctor',\n",
    " 'drugstore',\n",
    " 'electrician',\n",
    " 'electronics_store',\n",
    " 'embassy',\n",
    " 'establishment',\n",
    " 'finance',\n",
    " 'fire_station',\n",
    " 'florist',\n",
    " 'food',\n",
    " 'funeral_home',\n",
    " 'furniture_store',\n",
    " 'gas_station',\n",
    " 'general_contractor',\n",
    " 'grocery_or_supermarket',\n",
    " 'gym',\n",
    " 'hair_care',\n",
    " 'hardware_store',\n",
    " 'health',\n",
    " 'home_goods_store',\n",
    " 'hospital',\n",
    " 'insurance_agency',\n",
    " 'jewelry_store',\n",
    " 'laundry',\n",
    " 'lawyer',\n",
    " 'library',\n",
    " 'liquor_store',\n",
    " 'local_government_office',\n",
    " 'locality',\n",
    " 'locksmith',\n",
    " 'lodging',\n",
    " 'meal_delivery',\n",
    " 'meal_takeaway',\n",
    " 'mosque',\n",
    " 'movie_rental',\n",
    " 'movie_theater',\n",
    " 'moving_company',\n",
    " 'museum',\n",
    " 'natural_feature',\n",
    " 'night_club',\n",
    " 'painter',\n",
    " 'park',\n",
    " 'parking',\n",
    " 'pet_store',\n",
    " 'pharmacy',\n",
    " 'physiotherapist',\n",
    " 'place_of_worship',\n",
    " 'plumber',\n",
    " 'point_of_interest',\n",
    " 'police',\n",
    " 'political',\n",
    " 'post_office',\n",
    " 'premise',\n",
    " 'primary_school',\n",
    " 'real_estate_agency',\n",
    " 'restaurant',\n",
    " 'roofing_contractor',\n",
    " 'rv_park',\n",
    " 'school',\n",
    " 'secondary_school',\n",
    " 'shoe_store',\n",
    " 'shopping_mall',\n",
    " 'spa',\n",
    " 'stadium',\n",
    " 'storage',\n",
    " 'store',\n",
    " 'sublocality',\n",
    " 'sublocality_level_1',\n",
    " 'sublocality_level_2',\n",
    " 'subway_station',\n",
    " 'supermarket',\n",
    " 'tourist_attraction',\n",
    " 'train_station',\n",
    " 'transit_station',\n",
    " 'travel_agency',\n",
    " 'university',\n",
    " 'veterinary_care',\n",
    " 'zoo'}"
   ],
   "cell_type": "markdown",
   "metadata": {}
  },
  {
   "source": [
    "### 1.3.2 Explore The Basic Info of These 3 Datasets\n",
    "\n",
    "First datasets `df_transaction`, it contains the :\n",
    "* 'paying methods'(which does matter in this project)\n",
    "* 'Vending machine ID'(could be used to connect the `df_transaction` and `df_parkomat` to get the concrete address of this machine) \n",
    "* 'Date and hour' is also a very useful info in this datasets, I want to find out the distribution of hour per parking point and the regulation of the time series.\n",
    "* 'cost' is relatively not that important here"
   ],
   "cell_type": "markdown",
   "metadata": {}
  },
  {
   "cell_type": "code",
   "execution_count": 4,
   "metadata": {},
   "outputs": [
    {
     "output_type": "execute_result",
     "data": {
      "text/plain": [
       "       Sættype Betalingsmåde  Automat Lokation   Zone  \\\n",
       "676   Betaling        Mønter      152      NaN  ? - ?   \n",
       "1130  Betaling        Mønter      152      NaN  ? - ?   \n",
       "1283  Betaling        Mønter      152      NaN  ? - ?   \n",
       "2967  Betaling  VISA Dankort      152      NaN  ? - ?   \n",
       "3002  Betaling        Mønter      152      NaN  ? - ?   \n",
       "\n",
       "     Dato/tid parkeringsstart Dato/tid parkeringsslut       Beløb  \\\n",
       "676       2015-01-01 18:05:00     2015-01-02 08:02:00    1,00 DKK   \n",
       "1130      2015-01-01 23:41:00     2015-01-02 08:02:00    1,00 DKK   \n",
       "1283      2015-01-02 05:18:00     2015-01-02 12:08:00  124,00 DKK   \n",
       "2967      2015-01-02 09:35:00     2015-01-02 10:45:00   35,00 DKK   \n",
       "3002      2015-01-02 09:36:00     2015-01-02 14:56:00  160,00 DKK   \n",
       "\n",
       "     Kreditkortgebyr  \n",
       "676         0,00 DKK  \n",
       "1130        0,00 DKK  \n",
       "1283        0,00 DKK  \n",
       "2967        0,50 DKK  \n",
       "3002        0,00 DKK  "
      ],
      "text/html": "<div>\n<style scoped>\n    .dataframe tbody tr th:only-of-type {\n        vertical-align: middle;\n    }\n\n    .dataframe tbody tr th {\n        vertical-align: top;\n    }\n\n    .dataframe thead th {\n        text-align: right;\n    }\n</style>\n<table border=\"1\" class=\"dataframe\">\n  <thead>\n    <tr style=\"text-align: right;\">\n      <th></th>\n      <th>Sættype</th>\n      <th>Betalingsmåde</th>\n      <th>Automat</th>\n      <th>Lokation</th>\n      <th>Zone</th>\n      <th>Dato/tid parkeringsstart</th>\n      <th>Dato/tid parkeringsslut</th>\n      <th>Beløb</th>\n      <th>Kreditkortgebyr</th>\n    </tr>\n  </thead>\n  <tbody>\n    <tr>\n      <th>676</th>\n      <td>Betaling</td>\n      <td>Mønter</td>\n      <td>152</td>\n      <td>NaN</td>\n      <td>? - ?</td>\n      <td>2015-01-01 18:05:00</td>\n      <td>2015-01-02 08:02:00</td>\n      <td>1,00 DKK</td>\n      <td>0,00 DKK</td>\n    </tr>\n    <tr>\n      <th>1130</th>\n      <td>Betaling</td>\n      <td>Mønter</td>\n      <td>152</td>\n      <td>NaN</td>\n      <td>? - ?</td>\n      <td>2015-01-01 23:41:00</td>\n      <td>2015-01-02 08:02:00</td>\n      <td>1,00 DKK</td>\n      <td>0,00 DKK</td>\n    </tr>\n    <tr>\n      <th>1283</th>\n      <td>Betaling</td>\n      <td>Mønter</td>\n      <td>152</td>\n      <td>NaN</td>\n      <td>? - ?</td>\n      <td>2015-01-02 05:18:00</td>\n      <td>2015-01-02 12:08:00</td>\n      <td>124,00 DKK</td>\n      <td>0,00 DKK</td>\n    </tr>\n    <tr>\n      <th>2967</th>\n      <td>Betaling</td>\n      <td>VISA Dankort</td>\n      <td>152</td>\n      <td>NaN</td>\n      <td>? - ?</td>\n      <td>2015-01-02 09:35:00</td>\n      <td>2015-01-02 10:45:00</td>\n      <td>35,00 DKK</td>\n      <td>0,50 DKK</td>\n    </tr>\n    <tr>\n      <th>3002</th>\n      <td>Betaling</td>\n      <td>Mønter</td>\n      <td>152</td>\n      <td>NaN</td>\n      <td>? - ?</td>\n      <td>2015-01-02 09:36:00</td>\n      <td>2015-01-02 14:56:00</td>\n      <td>160,00 DKK</td>\n      <td>0,00 DKK</td>\n    </tr>\n  </tbody>\n</table>\n</div>"
     },
     "metadata": {},
     "execution_count": 4
    }
   ],
   "source": [
    "df_transaction.sort_values(by=['Automat','Dato/tid parkeringsstart','Dato/tid parkeringsslut']).head()"
   ]
  },
  {
   "source": [
    "Second datasets `df_parkomat`, we would  use the 'parkomat_id' to connect it with `df_transaction`.\n",
    "There are a lot of columns of location types added above. They are used to calculate how much points are within a radius(which could be set by hand)"
   ],
   "cell_type": "markdown",
   "metadata": {}
  },
  {
   "cell_type": "code",
   "execution_count": 5,
   "metadata": {},
   "outputs": [
    {
     "output_type": "execute_result",
     "data": {
      "text/plain": [
       "          FID   id  parkomat_id              type  vejkode p_zone beboer_zone  \\\n",
       "0  parkomat.1  467          152            P-info   1396.0    Rød          IB   \n",
       "1  parkomat.2  466          153  Betalingsautomat   1396.0    Rød          IB   \n",
       "2  parkomat.3  470          156  Betalingsautomat    148.0    Rød          IB   \n",
       "3  parkomat.4  471          157  Betalingsautomat   3348.0    Rød          IB   \n",
       "4  parkomat.5  472          158            P-info   5220.0    Rød          IB   \n",
       "\n",
       "                    vejnavn husnr              placering  ...  beauty_salon  \\\n",
       "0                    Dyrkøb     5                    NaN  ...             0   \n",
       "1                    Dyrkøb  OF/3                    NaN  ...             0   \n",
       "2  H.C. Andersens Boulevard     9  Eksisterende fortovsø  ...             0   \n",
       "3             Jarmers Plads     7  Eksisterende fortovsø  ...             0   \n",
       "4            Nørre Voldgade  OF/6                    NaN  ...             0   \n",
       "\n",
       "  shopping_mall meal_delivery car_rental  mosque  shoe_store  atm  \\\n",
       "0             0             0          0       0           0    0   \n",
       "1             0             0          0       0           0    0   \n",
       "2             0             0          0       0           0    0   \n",
       "3             0             0          0       0           0    0   \n",
       "4             0             0          0       0           0    0   \n",
       "\n",
       "   funeral_home  lodging  cafe  \n",
       "0             0        0     0  \n",
       "1             0        0     0  \n",
       "2             0        0     0  \n",
       "3             0        0     0  \n",
       "4             0        0     0  \n",
       "\n",
       "[5 rows x 120 columns]"
      ],
      "text/html": "<div>\n<style scoped>\n    .dataframe tbody tr th:only-of-type {\n        vertical-align: middle;\n    }\n\n    .dataframe tbody tr th {\n        vertical-align: top;\n    }\n\n    .dataframe thead th {\n        text-align: right;\n    }\n</style>\n<table border=\"1\" class=\"dataframe\">\n  <thead>\n    <tr style=\"text-align: right;\">\n      <th></th>\n      <th>FID</th>\n      <th>id</th>\n      <th>parkomat_id</th>\n      <th>type</th>\n      <th>vejkode</th>\n      <th>p_zone</th>\n      <th>beboer_zone</th>\n      <th>vejnavn</th>\n      <th>husnr</th>\n      <th>placering</th>\n      <th>...</th>\n      <th>beauty_salon</th>\n      <th>shopping_mall</th>\n      <th>meal_delivery</th>\n      <th>car_rental</th>\n      <th>mosque</th>\n      <th>shoe_store</th>\n      <th>atm</th>\n      <th>funeral_home</th>\n      <th>lodging</th>\n      <th>cafe</th>\n    </tr>\n  </thead>\n  <tbody>\n    <tr>\n      <th>0</th>\n      <td>parkomat.1</td>\n      <td>467</td>\n      <td>152</td>\n      <td>P-info</td>\n      <td>1396.0</td>\n      <td>Rød</td>\n      <td>IB</td>\n      <td>Dyrkøb</td>\n      <td>5</td>\n      <td>NaN</td>\n      <td>...</td>\n      <td>0</td>\n      <td>0</td>\n      <td>0</td>\n      <td>0</td>\n      <td>0</td>\n      <td>0</td>\n      <td>0</td>\n      <td>0</td>\n      <td>0</td>\n      <td>0</td>\n    </tr>\n    <tr>\n      <th>1</th>\n      <td>parkomat.2</td>\n      <td>466</td>\n      <td>153</td>\n      <td>Betalingsautomat</td>\n      <td>1396.0</td>\n      <td>Rød</td>\n      <td>IB</td>\n      <td>Dyrkøb</td>\n      <td>OF/3</td>\n      <td>NaN</td>\n      <td>...</td>\n      <td>0</td>\n      <td>0</td>\n      <td>0</td>\n      <td>0</td>\n      <td>0</td>\n      <td>0</td>\n      <td>0</td>\n      <td>0</td>\n      <td>0</td>\n      <td>0</td>\n    </tr>\n    <tr>\n      <th>2</th>\n      <td>parkomat.3</td>\n      <td>470</td>\n      <td>156</td>\n      <td>Betalingsautomat</td>\n      <td>148.0</td>\n      <td>Rød</td>\n      <td>IB</td>\n      <td>H.C. Andersens Boulevard</td>\n      <td>9</td>\n      <td>Eksisterende fortovsø</td>\n      <td>...</td>\n      <td>0</td>\n      <td>0</td>\n      <td>0</td>\n      <td>0</td>\n      <td>0</td>\n      <td>0</td>\n      <td>0</td>\n      <td>0</td>\n      <td>0</td>\n      <td>0</td>\n    </tr>\n    <tr>\n      <th>3</th>\n      <td>parkomat.4</td>\n      <td>471</td>\n      <td>157</td>\n      <td>Betalingsautomat</td>\n      <td>3348.0</td>\n      <td>Rød</td>\n      <td>IB</td>\n      <td>Jarmers Plads</td>\n      <td>7</td>\n      <td>Eksisterende fortovsø</td>\n      <td>...</td>\n      <td>0</td>\n      <td>0</td>\n      <td>0</td>\n      <td>0</td>\n      <td>0</td>\n      <td>0</td>\n      <td>0</td>\n      <td>0</td>\n      <td>0</td>\n      <td>0</td>\n    </tr>\n    <tr>\n      <th>4</th>\n      <td>parkomat.5</td>\n      <td>472</td>\n      <td>158</td>\n      <td>P-info</td>\n      <td>5220.0</td>\n      <td>Rød</td>\n      <td>IB</td>\n      <td>Nørre Voldgade</td>\n      <td>OF/6</td>\n      <td>NaN</td>\n      <td>...</td>\n      <td>0</td>\n      <td>0</td>\n      <td>0</td>\n      <td>0</td>\n      <td>0</td>\n      <td>0</td>\n      <td>0</td>\n      <td>0</td>\n      <td>0</td>\n      <td>0</td>\n    </tr>\n  </tbody>\n</table>\n<p>5 rows × 120 columns</p>\n</div>"
     },
     "metadata": {},
     "execution_count": 5
    }
   ],
   "source": [
    "\n",
    "df_parkomat.head()"
   ]
  },
  {
   "cell_type": "code",
   "execution_count": 6,
   "metadata": {},
   "outputs": [
    {
     "output_type": "execute_result",
     "data": {
      "text/plain": [
       "                             name        lat        lng  \\\n",
       "0                      Copenhagen  55.676097  12.568337   \n",
       "1                   VIK Rengøring  55.708810  12.569768   \n",
       "2  IP-Support.dk Computerværksted  55.708099  12.573003   \n",
       "3                     Vintage 199  55.708056  12.570833   \n",
       "4                    Kan Rep Låse  55.708339  12.569962   \n",
       "\n",
       "                                                type  insurance_agency  \\\n",
       "0                          ['locality', 'political']                 0   \n",
       "1             ['point_of_interest', 'establishment']                 0   \n",
       "2             ['point_of_interest', 'establishment']                 0   \n",
       "3  ['point_of_interest', 'clothing_store', 'store...                 0   \n",
       "4  ['locksmith', 'point_of_interest', 'establishm...                 0   \n",
       "\n",
       "   travel_agency  electrician  police  car_repair  dentist  ...  beauty_salon  \\\n",
       "0              0            0       0           0        0  ...             0   \n",
       "1              0            0       0           0        0  ...             0   \n",
       "2              0            0       0           0        0  ...             0   \n",
       "3              0            0       0           0        0  ...             0   \n",
       "4              0            0       0           0        0  ...             0   \n",
       "\n",
       "   shopping_mall  meal_delivery  car_rental  mosque  shoe_store  atm  \\\n",
       "0              0              0           0       0           0    0   \n",
       "1              0              0           0       0           0    0   \n",
       "2              0              0           0       0           0    0   \n",
       "3              0              0           0       0           0    0   \n",
       "4              0              0           0       0           0    0   \n",
       "\n",
       "   funeral_home  lodging  cafe  \n",
       "0             0        0     0  \n",
       "1             0        0     0  \n",
       "2             0        0     0  \n",
       "3             0        0     0  \n",
       "4             0        0     0  \n",
       "\n",
       "[5 rows x 110 columns]"
      ],
      "text/html": "<div>\n<style scoped>\n    .dataframe tbody tr th:only-of-type {\n        vertical-align: middle;\n    }\n\n    .dataframe tbody tr th {\n        vertical-align: top;\n    }\n\n    .dataframe thead th {\n        text-align: right;\n    }\n</style>\n<table border=\"1\" class=\"dataframe\">\n  <thead>\n    <tr style=\"text-align: right;\">\n      <th></th>\n      <th>name</th>\n      <th>lat</th>\n      <th>lng</th>\n      <th>type</th>\n      <th>insurance_agency</th>\n      <th>travel_agency</th>\n      <th>electrician</th>\n      <th>police</th>\n      <th>car_repair</th>\n      <th>dentist</th>\n      <th>...</th>\n      <th>beauty_salon</th>\n      <th>shopping_mall</th>\n      <th>meal_delivery</th>\n      <th>car_rental</th>\n      <th>mosque</th>\n      <th>shoe_store</th>\n      <th>atm</th>\n      <th>funeral_home</th>\n      <th>lodging</th>\n      <th>cafe</th>\n    </tr>\n  </thead>\n  <tbody>\n    <tr>\n      <th>0</th>\n      <td>Copenhagen</td>\n      <td>55.676097</td>\n      <td>12.568337</td>\n      <td>['locality', 'political']</td>\n      <td>0</td>\n      <td>0</td>\n      <td>0</td>\n      <td>0</td>\n      <td>0</td>\n      <td>0</td>\n      <td>...</td>\n      <td>0</td>\n      <td>0</td>\n      <td>0</td>\n      <td>0</td>\n      <td>0</td>\n      <td>0</td>\n      <td>0</td>\n      <td>0</td>\n      <td>0</td>\n      <td>0</td>\n    </tr>\n    <tr>\n      <th>1</th>\n      <td>VIK Rengøring</td>\n      <td>55.708810</td>\n      <td>12.569768</td>\n      <td>['point_of_interest', 'establishment']</td>\n      <td>0</td>\n      <td>0</td>\n      <td>0</td>\n      <td>0</td>\n      <td>0</td>\n      <td>0</td>\n      <td>...</td>\n      <td>0</td>\n      <td>0</td>\n      <td>0</td>\n      <td>0</td>\n      <td>0</td>\n      <td>0</td>\n      <td>0</td>\n      <td>0</td>\n      <td>0</td>\n      <td>0</td>\n    </tr>\n    <tr>\n      <th>2</th>\n      <td>IP-Support.dk Computerværksted</td>\n      <td>55.708099</td>\n      <td>12.573003</td>\n      <td>['point_of_interest', 'establishment']</td>\n      <td>0</td>\n      <td>0</td>\n      <td>0</td>\n      <td>0</td>\n      <td>0</td>\n      <td>0</td>\n      <td>...</td>\n      <td>0</td>\n      <td>0</td>\n      <td>0</td>\n      <td>0</td>\n      <td>0</td>\n      <td>0</td>\n      <td>0</td>\n      <td>0</td>\n      <td>0</td>\n      <td>0</td>\n    </tr>\n    <tr>\n      <th>3</th>\n      <td>Vintage 199</td>\n      <td>55.708056</td>\n      <td>12.570833</td>\n      <td>['point_of_interest', 'clothing_store', 'store...</td>\n      <td>0</td>\n      <td>0</td>\n      <td>0</td>\n      <td>0</td>\n      <td>0</td>\n      <td>0</td>\n      <td>...</td>\n      <td>0</td>\n      <td>0</td>\n      <td>0</td>\n      <td>0</td>\n      <td>0</td>\n      <td>0</td>\n      <td>0</td>\n      <td>0</td>\n      <td>0</td>\n      <td>0</td>\n    </tr>\n    <tr>\n      <th>4</th>\n      <td>Kan Rep Låse</td>\n      <td>55.708339</td>\n      <td>12.569962</td>\n      <td>['locksmith', 'point_of_interest', 'establishm...</td>\n      <td>0</td>\n      <td>0</td>\n      <td>0</td>\n      <td>0</td>\n      <td>0</td>\n      <td>0</td>\n      <td>...</td>\n      <td>0</td>\n      <td>0</td>\n      <td>0</td>\n      <td>0</td>\n      <td>0</td>\n      <td>0</td>\n      <td>0</td>\n      <td>0</td>\n      <td>0</td>\n      <td>0</td>\n    </tr>\n  </tbody>\n</table>\n<p>5 rows × 110 columns</p>\n</div>"
     },
     "metadata": {},
     "execution_count": 6
    }
   ],
   "source": [
    "df_google_map.head()"
   ]
  },
  {
   "source": [
    "### 1.3.3 Explore more basic info in these datasets\n",
    "\n",
    "Firstly I explore the dataset df_google_map.There are 21470 rows of places data. But what matters is every place would have multi tags.\n",
    "According to the summary of df_google_map,the number of 'establishment' is 21454 and the number of 'point_of_interest' is also 21454. \n",
    "\n",
    "What's more, there are also tags like 'bus station','subway_station' and 'transit station'. Some 'railway station' would result in the rise of parking counts but the 'bus station' and 'subway_station' would result in the decrease of that. It is a meaningful point which we could study with our data.\n",
    "\n"
   ],
   "cell_type": "markdown",
   "metadata": {}
  },
  {
   "cell_type": "code",
   "execution_count": 7,
   "metadata": {},
   "outputs": [
    {
     "output_type": "stream",
     "name": "stdout",
     "text": [
      "insurance_agency     33\ntravel_agency       115\nelectrician          64\npolice                9\ncar_repair           69\n                   ... \nshoe_store           37\natm                  21\nfuneral_home         17\nlodging             177\ncafe                206\nLength: 106, dtype: int64\n"
     ]
    }
   ],
   "source": [
    "df_google_map_points_count = df_google_map[location_type].apply(sum)\n",
    "print(df_google_map_points_count)\n",
    "# print(len(df_google_map))"
   ]
  },
  {
   "source": [
    "### 1.3.3 Calculate the number of various types of points within a certain range \n",
    "\n",
    "#### Firstly, the function of calculate the distance with lat and lng."
   ],
   "cell_type": "markdown",
   "metadata": {}
  },
  {
   "cell_type": "code",
   "execution_count": 8,
   "metadata": {},
   "outputs": [],
   "source": [
    "# now try to counting the number of different type points \n",
    "# copenhagen : lat:55.6761° N,  lng: 12.5683° E\n",
    "from math import radians, cos, sin, asin, sqrt\n",
    "def geodistance(lng1,lat1,lng2,lat2):\n",
    "    lng1, lat1, lng2, lat2 = map(radians, [lng1, lat1, lng2, lat2])\n",
    "    dlon=lng2-lng1\n",
    "    dlat=lat2-lat1\n",
    "    a=sin(dlat/2)**2 + cos(lat1) * cos(lat2) * sin(dlon/2)**2 \n",
    "    dis=2*asin(sqrt(a))*6371*1000\n",
    "    return dis\n",
    "\n",
    "\n",
    "RADIUS = 300\n",
    "## =========================================================BEGINNING==========================================================\n",
    "## the following codes are used to calculate the amount of different types of location within a concrete raidus here\n",
    "## it takes too long time to run, so I saved the result as a csv file. Only need to read the csv file we could get the result\n",
    "#\n",
    "#\n",
    "# df_parkomat_count = df_parkomat.copy()\n",
    "# # df_parkomat_count.insert(0,'Count_radius_300m',0)\n",
    "# list_column_parkomat_count = location_type.copy()\n",
    "# list_column_parkomat_count.add('wkb_geometry')\n",
    "# list_column_parkomat_count.add('['parkomat_id']')\n",
    "# df_parkomat_count = df_parkomat_count[list_column_parkomat_count]\n",
    "# # df_parkomat_count['wkb_geometry']\n",
    "# df_parkomat_count['lng']  = df_parkomat_count['wkb_geometry'].map(lambda x:(re.split('POINT \\(| |\\)',x)[1]))\n",
    "# df_parkomat_count['lat']  = df_parkomat_count['wkb_geometry'].map(lambda x:(re.split('POINT \\(| |\\)',x)[2]))\n",
    "\n",
    "\n",
    "# for j in range(len(df_parkomat_count)):\n",
    "#     print(j)\n",
    "#     list_index_find = []\n",
    "#     for i in range(len(df_google_map)):\n",
    "#         distance = geodistance(df_google_map[i:i+1]['lng'],df_google_map[i:i+1]['lat'],df_parkomat_count[j:j+1]['lng'],df_parkomat_count[j:j+1]['lat'])\n",
    "#         if(distance <= RADIUS):\n",
    "#             list_index_find.append(i)\n",
    "#     df_parkomat_count.loc[j,location_type]=df_google_map.loc[list_index_find,location_type].sum()\n",
    "#     if(j%100==0):\n",
    "#         df_parkomat_count.to_csv('df_parkomat_count_300m.csv')\n",
    "\n",
    "# df_parkomat_count.to_csv('df_parkomat_count_300m.csv')\n",
    "\n",
    "## =============================================================END===============================================================\n",
    "df_parkomat_count = pd.read_csv(\"data_generated_by_wenjie/df_parkomat_count_300m.csv\",index_col=0)\n",
    "\n"
   ]
  },
  {
   "source": [
    "Now the `df_parkmot_count` contains the count of every type within a certain radius(300m)"
   ],
   "cell_type": "markdown",
   "metadata": {}
  },
  {
   "cell_type": "code",
   "execution_count": 10,
   "metadata": {},
   "outputs": [
    {
     "output_type": "execute_result",
     "data": {
      "text/plain": [
       "   book_store  supermarket  church  hair_care  shoe_store  bicycle_store  \\\n",
       "0           3            0       2          1           1              1   \n",
       "1           4            0       2          1           1              1   \n",
       "2           1            1       0          1           2              1   \n",
       "3           1            1       0          1           2              1   \n",
       "4           1            0       1          1           2              1   \n",
       "\n",
       "   local_government_office  primary_school   id  sublocality_level_2  ...  \\\n",
       "0                        0               0  467                    0  ...   \n",
       "1                        0               0  466                    0  ...   \n",
       "2                        3               0  470                    0  ...   \n",
       "3                        4               0  471                    0  ...   \n",
       "4                        4               0  472                    0  ...   \n",
       "\n",
       "   gym  car_wash  electrician  beauty_salon  drugstore  aquarium  police  \\\n",
       "0    0         0            0             0          0         0       0   \n",
       "1    0         0            0             0          0         0       0   \n",
       "2    2         0            0             2          0         0       0   \n",
       "3    2         0            0             4          0         0       0   \n",
       "4    2         0            0             4          0         0       0   \n",
       "\n",
       "   roofing_contractor        lng        lat  \n",
       "0                   0  12.572666  55.679003  \n",
       "1                   0  12.572937  55.679216  \n",
       "2                   0  12.566108  55.677827  \n",
       "3                   0  12.565577  55.678517  \n",
       "4                   0  12.566308  55.679171  \n",
       "\n",
       "[5 rows x 110 columns]"
      ],
      "text/html": "<div>\n<style scoped>\n    .dataframe tbody tr th:only-of-type {\n        vertical-align: middle;\n    }\n\n    .dataframe tbody tr th {\n        vertical-align: top;\n    }\n\n    .dataframe thead th {\n        text-align: right;\n    }\n</style>\n<table border=\"1\" class=\"dataframe\">\n  <thead>\n    <tr style=\"text-align: right;\">\n      <th></th>\n      <th>book_store</th>\n      <th>supermarket</th>\n      <th>church</th>\n      <th>hair_care</th>\n      <th>shoe_store</th>\n      <th>bicycle_store</th>\n      <th>local_government_office</th>\n      <th>primary_school</th>\n      <th>id</th>\n      <th>sublocality_level_2</th>\n      <th>...</th>\n      <th>gym</th>\n      <th>car_wash</th>\n      <th>electrician</th>\n      <th>beauty_salon</th>\n      <th>drugstore</th>\n      <th>aquarium</th>\n      <th>police</th>\n      <th>roofing_contractor</th>\n      <th>lng</th>\n      <th>lat</th>\n    </tr>\n  </thead>\n  <tbody>\n    <tr>\n      <th>0</th>\n      <td>3</td>\n      <td>0</td>\n      <td>2</td>\n      <td>1</td>\n      <td>1</td>\n      <td>1</td>\n      <td>0</td>\n      <td>0</td>\n      <td>467</td>\n      <td>0</td>\n      <td>...</td>\n      <td>0</td>\n      <td>0</td>\n      <td>0</td>\n      <td>0</td>\n      <td>0</td>\n      <td>0</td>\n      <td>0</td>\n      <td>0</td>\n      <td>12.572666</td>\n      <td>55.679003</td>\n    </tr>\n    <tr>\n      <th>1</th>\n      <td>4</td>\n      <td>0</td>\n      <td>2</td>\n      <td>1</td>\n      <td>1</td>\n      <td>1</td>\n      <td>0</td>\n      <td>0</td>\n      <td>466</td>\n      <td>0</td>\n      <td>...</td>\n      <td>0</td>\n      <td>0</td>\n      <td>0</td>\n      <td>0</td>\n      <td>0</td>\n      <td>0</td>\n      <td>0</td>\n      <td>0</td>\n      <td>12.572937</td>\n      <td>55.679216</td>\n    </tr>\n    <tr>\n      <th>2</th>\n      <td>1</td>\n      <td>1</td>\n      <td>0</td>\n      <td>1</td>\n      <td>2</td>\n      <td>1</td>\n      <td>3</td>\n      <td>0</td>\n      <td>470</td>\n      <td>0</td>\n      <td>...</td>\n      <td>2</td>\n      <td>0</td>\n      <td>0</td>\n      <td>2</td>\n      <td>0</td>\n      <td>0</td>\n      <td>0</td>\n      <td>0</td>\n      <td>12.566108</td>\n      <td>55.677827</td>\n    </tr>\n    <tr>\n      <th>3</th>\n      <td>1</td>\n      <td>1</td>\n      <td>0</td>\n      <td>1</td>\n      <td>2</td>\n      <td>1</td>\n      <td>4</td>\n      <td>0</td>\n      <td>471</td>\n      <td>0</td>\n      <td>...</td>\n      <td>2</td>\n      <td>0</td>\n      <td>0</td>\n      <td>4</td>\n      <td>0</td>\n      <td>0</td>\n      <td>0</td>\n      <td>0</td>\n      <td>12.565577</td>\n      <td>55.678517</td>\n    </tr>\n    <tr>\n      <th>4</th>\n      <td>1</td>\n      <td>0</td>\n      <td>1</td>\n      <td>1</td>\n      <td>2</td>\n      <td>1</td>\n      <td>4</td>\n      <td>0</td>\n      <td>472</td>\n      <td>0</td>\n      <td>...</td>\n      <td>2</td>\n      <td>0</td>\n      <td>0</td>\n      <td>4</td>\n      <td>0</td>\n      <td>0</td>\n      <td>0</td>\n      <td>0</td>\n      <td>12.566308</td>\n      <td>55.679171</td>\n    </tr>\n  </tbody>\n</table>\n<p>5 rows × 110 columns</p>\n</div>"
     },
     "metadata": {},
     "execution_count": 10
    }
   ],
   "source": [
    "df_parkomat_count.head()"
   ]
  },
  {
   "source": [
    "### 1.3.4 Working with the `df_transaction`\n",
    "`df_transaction` is really an important dataset.\n"
   ],
   "cell_type": "markdown",
   "metadata": {}
  },
  {
   "cell_type": "code",
   "execution_count": 11,
   "metadata": {},
   "outputs": [],
   "source": [
    "df_transaction_temp = df_transaction.sort_values(by=['Automat','Dato/tid parkeringsstart','Dato/tid parkeringsslut'])\n",
    "# a = t['Automat'].drop_duplicates()\n",
    "# b= df_parkomat['parkomat_id'].drop_duplicates()\n",
    "# k = pd.Series(list(set(a).intersection(set(b))))\n",
    "# k.sort_values()\n",
    "\n"
   ]
  },
  {
   "cell_type": "code",
   "execution_count": 12,
   "metadata": {},
   "outputs": [
    {
     "output_type": "stream",
     "name": "stderr",
     "text": [
      "D:\\Development_tool\\anaconda3\\lib\\site-packages\\pandas\\core\\indexing.py:1596: SettingWithCopyWarning: \nA value is trying to be set on a copy of a slice from a DataFrame.\nTry using .loc[row_indexer,col_indexer] = value instead\n\nSee the caveats in the documentation: https://pandas.pydata.org/pandas-docs/stable/user_guide/indexing.html#returning-a-view-versus-a-copy\n  self.obj[key] = _infer_fill_value(value)\nD:\\Development_tool\\anaconda3\\lib\\site-packages\\pandas\\core\\indexing.py:1745: SettingWithCopyWarning: \nA value is trying to be set on a copy of a slice from a DataFrame.\nTry using .loc[row_indexer,col_indexer] = value instead\n\nSee the caveats in the documentation: https://pandas.pydata.org/pandas-docs/stable/user_guide/indexing.html#returning-a-view-versus-a-copy\n  isetter(ilocs[0], value)\n"
     ]
    },
    {
     "output_type": "execute_result",
     "data": {
      "text/plain": [
       "       Sættype Betalingsmåde  Automat Lokation   Zone  \\\n",
       "676   Betaling        Mønter      152      NaN  ? - ?   \n",
       "1130  Betaling        Mønter      152      NaN  ? - ?   \n",
       "1283  Betaling        Mønter      152      NaN  ? - ?   \n",
       "2967  Betaling  VISA Dankort      152      NaN  ? - ?   \n",
       "3002  Betaling        Mønter      152      NaN  ? - ?   \n",
       "\n",
       "     Dato/tid parkeringsstart Dato/tid parkeringsslut       Beløb  \\\n",
       "676       2015-01-01 18:05:00     2015-01-02 08:02:00    1,00 DKK   \n",
       "1130      2015-01-01 23:41:00     2015-01-02 08:02:00    1,00 DKK   \n",
       "1283      2015-01-02 05:18:00     2015-01-02 12:08:00  124,00 DKK   \n",
       "2967      2015-01-02 09:35:00     2015-01-02 10:45:00   35,00 DKK   \n",
       "3002      2015-01-02 09:36:00     2015-01-02 14:56:00  160,00 DKK   \n",
       "\n",
       "     Kreditkortgebyr  diff_time  start_hour  leave_hour  \n",
       "676         0,00 DKK      837.0          18           8  \n",
       "1130        0,00 DKK      501.0          23           8  \n",
       "1283        0,00 DKK      410.0           5          12  \n",
       "2967        0,50 DKK       70.0           9          10  \n",
       "3002        0,00 DKK      320.0           9          14  "
      ],
      "text/html": "<div>\n<style scoped>\n    .dataframe tbody tr th:only-of-type {\n        vertical-align: middle;\n    }\n\n    .dataframe tbody tr th {\n        vertical-align: top;\n    }\n\n    .dataframe thead th {\n        text-align: right;\n    }\n</style>\n<table border=\"1\" class=\"dataframe\">\n  <thead>\n    <tr style=\"text-align: right;\">\n      <th></th>\n      <th>Sættype</th>\n      <th>Betalingsmåde</th>\n      <th>Automat</th>\n      <th>Lokation</th>\n      <th>Zone</th>\n      <th>Dato/tid parkeringsstart</th>\n      <th>Dato/tid parkeringsslut</th>\n      <th>Beløb</th>\n      <th>Kreditkortgebyr</th>\n      <th>diff_time</th>\n      <th>start_hour</th>\n      <th>leave_hour</th>\n    </tr>\n  </thead>\n  <tbody>\n    <tr>\n      <th>676</th>\n      <td>Betaling</td>\n      <td>Mønter</td>\n      <td>152</td>\n      <td>NaN</td>\n      <td>? - ?</td>\n      <td>2015-01-01 18:05:00</td>\n      <td>2015-01-02 08:02:00</td>\n      <td>1,00 DKK</td>\n      <td>0,00 DKK</td>\n      <td>837.0</td>\n      <td>18</td>\n      <td>8</td>\n    </tr>\n    <tr>\n      <th>1130</th>\n      <td>Betaling</td>\n      <td>Mønter</td>\n      <td>152</td>\n      <td>NaN</td>\n      <td>? - ?</td>\n      <td>2015-01-01 23:41:00</td>\n      <td>2015-01-02 08:02:00</td>\n      <td>1,00 DKK</td>\n      <td>0,00 DKK</td>\n      <td>501.0</td>\n      <td>23</td>\n      <td>8</td>\n    </tr>\n    <tr>\n      <th>1283</th>\n      <td>Betaling</td>\n      <td>Mønter</td>\n      <td>152</td>\n      <td>NaN</td>\n      <td>? - ?</td>\n      <td>2015-01-02 05:18:00</td>\n      <td>2015-01-02 12:08:00</td>\n      <td>124,00 DKK</td>\n      <td>0,00 DKK</td>\n      <td>410.0</td>\n      <td>5</td>\n      <td>12</td>\n    </tr>\n    <tr>\n      <th>2967</th>\n      <td>Betaling</td>\n      <td>VISA Dankort</td>\n      <td>152</td>\n      <td>NaN</td>\n      <td>? - ?</td>\n      <td>2015-01-02 09:35:00</td>\n      <td>2015-01-02 10:45:00</td>\n      <td>35,00 DKK</td>\n      <td>0,50 DKK</td>\n      <td>70.0</td>\n      <td>9</td>\n      <td>10</td>\n    </tr>\n    <tr>\n      <th>3002</th>\n      <td>Betaling</td>\n      <td>Mønter</td>\n      <td>152</td>\n      <td>NaN</td>\n      <td>? - ?</td>\n      <td>2015-01-02 09:36:00</td>\n      <td>2015-01-02 14:56:00</td>\n      <td>160,00 DKK</td>\n      <td>0,00 DKK</td>\n      <td>320.0</td>\n      <td>9</td>\n      <td>14</td>\n    </tr>\n  </tbody>\n</table>\n</div>"
     },
     "metadata": {},
     "execution_count": 12
    }
   ],
   "source": [
    "df_transaction_now_using = df_transaction_temp[(df_transaction_temp['Dato/tid parkeringsslut']-df_transaction_temp['Dato/tid parkeringsstart'])>=pd.Timedelta(0,'s')]\n",
    "df_transaction_now_using.loc[:,'diff_time'] = (df_transaction_now_using['Dato/tid parkeringsslut'] - df_transaction_now_using['Dato/tid parkeringsstart']).dt.seconds/60\n",
    "df_transaction_now_using.loc[:,'start_hour'] = df_transaction_now_using['Dato/tid parkeringsstart'].dt.hour\n",
    "df_transaction_now_using.loc[:,'leave_hour'] = df_transaction_now_using['Dato/tid parkeringsslut'].dt.hour\n",
    "\n",
    "df_transaction_now_using.head()"
   ]
  },
  {
   "cell_type": "code",
   "execution_count": 117,
   "metadata": {},
   "outputs": [
    {
     "output_type": "execute_result",
     "data": {
      "text/plain": [
       "      start_hour  parkomat_id  counts\n",
       "0              0          152     248\n",
       "1              0          153     285\n",
       "2              0          156     346\n",
       "3              0          157     194\n",
       "4              0          158      74\n",
       "...          ...          ...     ...\n",
       "1446           0         9621       6\n",
       "1447           0         9622       2\n",
       "1448           0         9623       3\n",
       "1449           0         9624       4\n",
       "1450           0         9625       4\n",
       "\n",
       "[1451 rows x 3 columns]"
      ],
      "text/html": "<div>\n<style scoped>\n    .dataframe tbody tr th:only-of-type {\n        vertical-align: middle;\n    }\n\n    .dataframe tbody tr th {\n        vertical-align: top;\n    }\n\n    .dataframe thead th {\n        text-align: right;\n    }\n</style>\n<table border=\"1\" class=\"dataframe\">\n  <thead>\n    <tr style=\"text-align: right;\">\n      <th></th>\n      <th>start_hour</th>\n      <th>parkomat_id</th>\n      <th>counts</th>\n    </tr>\n  </thead>\n  <tbody>\n    <tr>\n      <th>0</th>\n      <td>0</td>\n      <td>152</td>\n      <td>248</td>\n    </tr>\n    <tr>\n      <th>1</th>\n      <td>0</td>\n      <td>153</td>\n      <td>285</td>\n    </tr>\n    <tr>\n      <th>2</th>\n      <td>0</td>\n      <td>156</td>\n      <td>346</td>\n    </tr>\n    <tr>\n      <th>3</th>\n      <td>0</td>\n      <td>157</td>\n      <td>194</td>\n    </tr>\n    <tr>\n      <th>4</th>\n      <td>0</td>\n      <td>158</td>\n      <td>74</td>\n    </tr>\n    <tr>\n      <th>...</th>\n      <td>...</td>\n      <td>...</td>\n      <td>...</td>\n    </tr>\n    <tr>\n      <th>1446</th>\n      <td>0</td>\n      <td>9621</td>\n      <td>6</td>\n    </tr>\n    <tr>\n      <th>1447</th>\n      <td>0</td>\n      <td>9622</td>\n      <td>2</td>\n    </tr>\n    <tr>\n      <th>1448</th>\n      <td>0</td>\n      <td>9623</td>\n      <td>3</td>\n    </tr>\n    <tr>\n      <th>1449</th>\n      <td>0</td>\n      <td>9624</td>\n      <td>4</td>\n    </tr>\n    <tr>\n      <th>1450</th>\n      <td>0</td>\n      <td>9625</td>\n      <td>4</td>\n    </tr>\n  </tbody>\n</table>\n<p>1451 rows × 3 columns</p>\n</div>"
     },
     "metadata": {},
     "execution_count": 117
    }
   ],
   "source": [
    "df_transaction_start_hour_count = df_transaction_now_using.groupby(['start_hour','Automat']).size().reset_index(name='counts')\n",
    "df_transaction_start_hour_count = df_transaction_start_hour_count.rename(columns={\"Automat\":\"parkomat_id\"})\n",
    "\n",
    "\n",
    "df_transaction_leave_hour_count = df_transaction_now_using.groupby(['leave_hour','Automat']).size().reset_index(name='counts')\n",
    "df_transaction_leave_hour_count = df_transaction_leave_hour_count.rename(columns={\"Automat\":\"parkomat_id\"})\n",
    "\n",
    "# df_transaction_start_hour_count[df_transaction_start_hour_count['start_hour']==0]\n"
   ]
  },
  {
   "cell_type": "code",
   "execution_count": 112,
   "metadata": {},
   "outputs": [],
   "source": [
    "def randomForest(X,y,X_test,y_test):\n",
    "\n",
    "# Instantiate model with 1000 decision trees\n",
    "    rf = RandomForestRegressor(n_estimators = 300, random_state = 40)\n",
    "# Train the model on training data\n",
    "    rf.fit(X, y)\n",
    "#test \n",
    "    predictions = rf.predict(X_test)\n",
    "# Calculate the absolute errors\n",
    "    errors = abs(predictions - y_test)\n",
    "# Print out the mean absolute error (mae)\n",
    "    print('Mean Absolute Error:', round(np.mean(errors), 2), 'degrees.')\n",
    "# Calculate mean absolute percentage error (MAPE)\n",
    "    mape = 100 * (errors / y_test)\n",
    "# Calculate and display accuracy\n",
    "    accuracy = 100 - np.mean(mape)\n",
    "    print('Accuracy:', round(accuracy, 2), '%.')\n",
    "    return errors\n",
    "# ###############################################################\n"
   ]
  },
  {
   "cell_type": "code",
   "execution_count": 113,
   "metadata": {},
   "outputs": [
    {
     "output_type": "stream",
     "name": "stdout",
     "text": [
      "start: 0\n",
      "Mean Absolute Error: 12.57 degrees.\n",
      "Accuracy: -51.96 %.\n",
      "start: 1\n",
      "Mean Absolute Error: 10.56 degrees.\n",
      "Accuracy: -67.07 %.\n",
      "start: 2\n",
      "Mean Absolute Error: 4.5 degrees.\n",
      "Accuracy: -37.92 %.\n",
      "start: 3\n",
      "Mean Absolute Error: 3.73 degrees.\n",
      "Accuracy: -38.84 %.\n",
      "start: 4\n",
      "Mean Absolute Error: 4.16 degrees.\n",
      "Accuracy: -56.1 %.\n",
      "start: 5\n",
      "Mean Absolute Error: 13.06 degrees.\n",
      "Accuracy: -233.26 %.\n",
      "start: 6\n",
      "Mean Absolute Error: 43.38 degrees.\n",
      "Accuracy: -107.55 %.\n",
      "start: 7\n",
      "Mean Absolute Error: 76.07 degrees.\n",
      "Accuracy: -56.79 %.\n",
      "start: 8\n",
      "Mean Absolute Error: 142.61 degrees.\n",
      "Accuracy: -54.49 %.\n",
      "start: 9\n",
      "Mean Absolute Error: 154.52 degrees.\n",
      "Accuracy: -69.22 %.\n",
      "start: 10\n",
      "Mean Absolute Error: 182.84 degrees.\n",
      "Accuracy: -37.28 %.\n",
      "start: 11\n",
      "Mean Absolute Error: 192.35 degrees.\n",
      "Accuracy: -176.16 %.\n",
      "start: 12\n",
      "Mean Absolute Error: 197.72 degrees.\n",
      "Accuracy: -33.17 %.\n",
      "start: 13\n",
      "Mean Absolute Error: 200.04 degrees.\n",
      "Accuracy: 3.35 %.\n",
      "start: 14\n",
      "Mean Absolute Error: 219.75 degrees.\n",
      "Accuracy: -42.17 %.\n",
      "start: 15\n",
      "Mean Absolute Error: 213.89 degrees.\n",
      "Accuracy: -8.93 %.\n",
      "start: 16\n",
      "Mean Absolute Error: 180.72 degrees.\n",
      "Accuracy: -17.9 %.\n",
      "start: 17\n",
      "Mean Absolute Error: 194.41 degrees.\n",
      "Accuracy: -110.5 %.\n",
      "start: 18\n",
      "Mean Absolute Error: 138.38 degrees.\n",
      "Accuracy: -23.74 %.\n",
      "start: 19\n",
      "Mean Absolute Error: 118.14 degrees.\n",
      "Accuracy: -76.3 %.\n",
      "start: 20\n",
      "Mean Absolute Error: 69.66 degrees.\n",
      "Accuracy: -10.0 %.\n",
      "start: 21\n",
      "Mean Absolute Error: 52.34 degrees.\n",
      "Accuracy: -8.37 %.\n",
      "start: 22\n",
      "Mean Absolute Error: 39.55 degrees.\n",
      "Accuracy: -7.48 %.\n",
      "start: 23\n",
      "Mean Absolute Error: 23.16 degrees.\n",
      "Accuracy: -30.59 %.\n"
     ]
    }
   ],
   "source": [
    "# for i in range(24):\n",
    "#     df_now_using = df_transaction_start_hour_count[df_transaction_start_hour_count['start_hour']==(i)]\n",
    "#     df_now_using = df_now_using.merge(df_parkomat_count,how='inner',on = 'parkomat_id')\n",
    "#     train = df_now_using.drop(\n",
    "#         columns=['start_hour',\n",
    "#         'parkomat_id',\n",
    "#         'id',\n",
    "#         'counts',\n",
    "#         'lng',\n",
    "#         'lat',\n",
    "#         'sublocality_level_2',\n",
    "#         'sublocality_level_1',\n",
    "#         'sublocality',\n",
    "#         'establishment',\n",
    "#         'point_of_interest',\n",
    "#         'wkb_geometry'])\n",
    "#     target = df_now_using['counts']\n",
    "#     X,X_test, y, y_test = sklearn.model_selection.train_test_split(train,target,train_size = int(len(train)*0.9),random_state = 0)\n",
    "#     print(\"start:\",i)\n",
    "#     randomForest(X,y,X_test,y_test)\n",
    "\n"
   ]
  },
  {
   "cell_type": "code",
   "execution_count": 114,
   "metadata": {},
   "outputs": [
    {
     "output_type": "stream",
     "name": "stdout",
     "text": [
      "start: 0\n",
      "Mean Absolute Error: 43.23 degrees.\n",
      "Accuracy: -5.99 %.\n",
      "start: 1\n",
      "Mean Absolute Error: 29.39 degrees.\n",
      "Accuracy: -62.7 %.\n",
      "start: 2\n",
      "Mean Absolute Error: 11.36 degrees.\n",
      "Accuracy: -28.6 %.\n",
      "start: 3\n",
      "Mean Absolute Error: 10.92 degrees.\n",
      "Accuracy: -44.88 %.\n",
      "start: 4\n",
      "Mean Absolute Error: 7.76 degrees.\n",
      "Accuracy: -8.81 %.\n",
      "start: 5\n",
      "Mean Absolute Error: 10.5 degrees.\n",
      "Accuracy: -19.06 %.\n",
      "start: 6\n",
      "Mean Absolute Error: 11.71 degrees.\n",
      "Accuracy: -30.06 %.\n",
      "start: 7\n",
      "Mean Absolute Error: 18.3 degrees.\n",
      "Accuracy: -15.02 %.\n",
      "start: 8\n",
      "Mean Absolute Error: 156.38 degrees.\n",
      "Accuracy: 10.65 %.\n",
      "start: 9\n",
      "Mean Absolute Error: 104.31 degrees.\n",
      "Accuracy: -50.43 %.\n",
      "start: 10\n",
      "Mean Absolute Error: 109.2 degrees.\n",
      "Accuracy: -12.56 %.\n",
      "start: 11\n",
      "Mean Absolute Error: 156.42 degrees.\n",
      "Accuracy: -63.13 %.\n",
      "start: 12\n",
      "Mean Absolute Error: 175.31 degrees.\n",
      "Accuracy: -31.27 %.\n",
      "start: 13\n",
      "Mean Absolute Error: 178.74 degrees.\n",
      "Accuracy: -50.41 %.\n",
      "start: 14\n",
      "Mean Absolute Error: 195.08 degrees.\n",
      "Accuracy: -13.82 %.\n",
      "start: 15\n",
      "Mean Absolute Error: 204.84 degrees.\n",
      "Accuracy: -106.2 %.\n",
      "start: 16\n",
      "Mean Absolute Error: 188.84 degrees.\n",
      "Accuracy: -32.09 %.\n",
      "start: 17\n",
      "Mean Absolute Error: 148.51 degrees.\n",
      "Accuracy: -40.41 %.\n",
      "start: 18\n",
      "Mean Absolute Error: 133.38 degrees.\n",
      "Accuracy: -25.08 %.\n",
      "start: 19\n",
      "Mean Absolute Error: 94.0 degrees.\n",
      "Accuracy: -67.28 %.\n",
      "start: 20\n",
      "Mean Absolute Error: 111.6 degrees.\n",
      "Accuracy: 6.86 %.\n",
      "start: 21\n",
      "Mean Absolute Error: 116.22 degrees.\n",
      "Accuracy: -18.23 %.\n",
      "start: 22\n",
      "Mean Absolute Error: 101.43 degrees.\n",
      "Accuracy: -21.4 %.\n",
      "start: 23\n",
      "Mean Absolute Error: 32.19 degrees.\n",
      "Accuracy: -4.1 %.\n"
     ]
    }
   ],
   "source": [
    "# for i in range(24):\n",
    "#     df_now_using = df_transaction_leave_hour_count[df_transaction_leave_hour_count['leave_hour']==(i)]\n",
    "#     df_now_using = df_now_using.merge(df_parkomat_count,how='inner',on = 'parkomat_id')\n",
    "#     train = df_now_using.drop(\n",
    "#         columns=['leave_hour',\n",
    "#         'parkomat_id',\n",
    "#         'id',\n",
    "#         'counts',\n",
    "#         'lng',\n",
    "#         'lat',\n",
    "#         'sublocality_level_2',\n",
    "#         'sublocality_level_1',\n",
    "#         'sublocality',\n",
    "#         'establishment',\n",
    "#         'point_of_interest',\n",
    "#         'wkb_geometry'])\n",
    "#     target = df_now_using['counts']\n",
    "#     X,X_test, y, y_test = sklearn.model_selection.train_test_split(train,target,train_size = int(len(train)*0.9),random_state = 0)\n",
    "#     print(\"start:\",i)\n",
    "#     randomForest(X,y,X_test,y_test)\n"
   ]
  },
  {
   "cell_type": "code",
   "execution_count": 13,
   "metadata": {},
   "outputs": [],
   "source": [
    "## =========DRAWING MAPS===================================\n",
    "# # # test = literal_eval(df_parking[0:1]['wkb_geometry'])\n",
    "# # t = (df_parking.loc[6581,['wkb_geometry']])['wkb_geometry']\n",
    "# # point_around = df_google_map\n",
    "# # point_around = point_around.drop(index=point_around.index)\n",
    "# # for point1 in t:\n",
    "# #     for point2 in df_google_map:\n",
    "# # len(df_parkomat)\n",
    "# #1602\n",
    "# df_parkomat.head()\n",
    "# df_parkomat['wkb_geometry'][1]\n",
    "# # df_parkomat['lat'] = df_parkomat['wkb_geometry'].apply(lambda x: x.)\n",
    "# import re\n",
    "# t = re.split('POINT \\(| |\\)',df_parkomat['wkb_geometry'][1])[1:3]\n",
    "\n",
    "# def strpoint_to_list(str):\n",
    "#     temp_list=[]\n",
    "\n",
    "# df_parking = pd.read_csv(\"taelling_p_pladser.csv\", parse_dates=['aar_mdr'])\n",
    "# df_parking = df_parking[(df_parking['aar_mdr']>='2012') & (df_parking['aar_mdr']<='2021')]\n",
    "# df_parking = df_parking.sort_values(by='aar_mdr')\n",
    "# # df_parking = df_parking[df_parking.aar_mdr != '201  405']\n",
    "# df_parking['aar_mdr'] = df_parking['aar_mdr'].apply(lambda x: str(x)).apply(lambda x : x[:4]+'/'+x[4:])\n",
    "# def format_geo(x):\n",
    "#     x = str(x)\n",
    "#     for i in \")(,\":\n",
    "#         x = x.replace(i,'')\n",
    "#     x = x.split()[1:]\n",
    "#     locations = []\n",
    "#     for i in range(0,len(x),2):\n",
    "#         locations.append(x[i:i+2])\n",
    "#     return locations\n",
    "# df_parking['wkb_geometry'] = df_parking['wkb_geometry'].apply(format_geo)"
   ]
  },
  {
   "cell_type": "code",
   "execution_count": 14,
   "metadata": {
    "tags": []
   },
   "outputs": [],
   "source": [
    "# import folium\n",
    "# cp_map = folium.Map(location=[55.6760968, 12.5683371], zoom_start=13)\n",
    "# for i in range(len(df_google_map)):\n",
    "#     folium.Circle(\n",
    "#         radius=1,\n",
    "#         location=[df_google_map.loc[i,'lat'], df_google_map.loc[i,'lng']],\n",
    "#         color=\"blue\",\n",
    "#         fill=True\n",
    "#     ).add_to(cp_map)\n",
    "\n",
    "# for i in range(len(df_parkomat)):\n",
    "#     t = re.split('POINT \\(| |\\)',df_parkomat['wkb_geometry'][i])[1:3]\n",
    "#     # folium.Circle(\n",
    "#     #     radius=3,\n",
    "#     #     location=[t[1], t[0]],\n",
    "#     #     color=\"green\",\n",
    "#     #     fill=True\n",
    "#     # ).add_to(cp_map)\n",
    "#     folium.Marker(\n",
    "#     location=[t[1], t[0]],\n",
    "#     icon=folium.Icon(color=\"green\")\n",
    "# ).add_to(cp_map)\n",
    "\n",
    "\n",
    "\n",
    "# df_201703 = df_parking[df_parking['aar_mdr'] == '2017/03']\n",
    "# df_201703 = df_201703.dropna(subset=['wkb_geometry'])\n",
    "# df_201703 = df_201703[df_201703['wkb_geometry'].apply(lambda x: len(x)) > 0]\n",
    "# df_201703 = df_201703[df_201703['lovlig_p_kl_12']!=0]\n",
    "# df_201703 = df_201703[df_201703['lovlig_p_kl_17']!=0]\n",
    "# df_201703 = df_201703[df_201703['lovlig_p_kl_22']!=0]\n",
    "# df_201703 = df_201703.drop_duplicates(subset=['taelle_id'], keep='first')\n",
    "\n",
    "# import colorsys\n",
    "\n",
    "# for i, row in df_201703.iterrows():\n",
    "#     points = []\n",
    "#     if len(row['wkb_geometry']) == 0:\n",
    "#         continue\n",
    "#     rate = int(row['belaegning_kl_12_pct'])\n",
    "#     if rate > 100:\n",
    "#         rate = 100\n",
    "#     rgb = colorsys.hsv_to_rgb((100 -rate)/ 300., 1.0, 1.0)\n",
    "#     color = '#%02x%02x%02x' % tuple([round(255*x) for x in rgb])\n",
    "#     for location in row['wkb_geometry']:\n",
    "#         point = []\n",
    "#         point.append(float(location[1]))\n",
    "#         point.append(float(location[0]))\n",
    "#         points.append(point)\n",
    "#     popup = row['vejnavn'] + '-' + str(rate) + '%'\n",
    "#     folium.PolyLine(points, color=color, popup=popup).add_to(cp_map)\n",
    "\n",
    "\n",
    "# cp_map"
   ]
  },
  {
   "cell_type": "code",
   "execution_count": 209,
   "metadata": {
    "tags": []
   },
   "outputs": [],
   "source": [
    "## This sector is used to calculate how many cars parking in every park per hour.\n",
    "## ============================================BEGIN===========================\n",
    "# time = pd.to_datetime(\"2015-01-01 00:00:00\")\n",
    "# df_transaction_hour_series =pd.DataFrame({'Automat':[],'counts':[],'datetime':[]})\n",
    "# while time<pd.to_datetime(\"2016-01-01 00:00:00\"):\n",
    "#     temp = df_transaction[(df_transaction['Dato/tid parkeringsstart']<=time+pd.Timedelta(1,'h'))&(df_transaction['Dato/tid parkeringsslut']>=time)].groupby(['Automat']).size().reset_index(name='counts')\n",
    "#     temp['datetime'] = time\n",
    "#     time = time + pd.Timedelta(1,'h')\n",
    "#     df_transaction_hour_series = df_transaction_hour_series.append(temp)\n",
    "#     print(time)\n",
    "## ====================================END=================================\n",
    "df_transaction_hour_series = pd.read_csv(\"data_generated_by_wenjie/df_transaction_hour_series.csv\",usecols=['Automat','counts','datetime'],parse_dates=['datetime'])"
   ]
  },
  {
   "cell_type": "code",
   "execution_count": 212,
   "metadata": {},
   "outputs": [],
   "source": [
    "# df_transaction_hour_series.to_csv('df_transaction_hour_series.csv')\n",
    "series_max_parking_count = df_transaction_hour_series.groupby(['Automat']).max()['counts']\n",
    "# df_transaction_hour_series[(df_transaction_hour_series['Automat']==153)]"
   ]
  },
  {
   "cell_type": "code",
   "execution_count": 213,
   "metadata": {},
   "outputs": [
    {
     "output_type": "execute_result",
     "data": {
      "text/plain": [
       "Automat\n",
       "152.0      38.0\n",
       "153.0      61.0\n",
       "156.0      71.0\n",
       "157.0      49.0\n",
       "158.0      31.0\n",
       "           ... \n",
       "9624.0     16.0\n",
       "9625.0     10.0\n",
       "69691.0    29.0\n",
       "69692.0    32.0\n",
       "69693.0    33.0\n",
       "Name: counts, Length: 1522, dtype: float64"
      ]
     },
     "metadata": {},
     "execution_count": 213
    }
   ],
   "source": [
    "series_max_parking_count = "
   ]
  }
 ],
 "metadata": {
  "kernelspec": {
   "name": "python385jvsc74a57bd0693707b17ee1c5ed8a3c9e331d34565bc1c4ee05c6ff581ada1c6a1e2aea56a9",
   "display_name": "Python 3.8.5 64-bit (conda)"
  },
  "language_info": {
   "codemirror_mode": {
    "name": "ipython",
    "version": 3
   },
   "file_extension": ".py",
   "mimetype": "text/x-python",
   "name": "python",
   "nbconvert_exporter": "python",
   "pygments_lexer": "ipython3",
   "version": "3.8.5"
  }
 },
 "nbformat": 4,
 "nbformat_minor": 5
}