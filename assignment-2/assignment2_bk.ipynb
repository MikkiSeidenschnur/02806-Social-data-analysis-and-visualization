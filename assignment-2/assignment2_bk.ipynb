{
 "cells": [
  {
   "cell_type": "markdown",
   "metadata": {},
   "source": [
    "# Assignment 2\n",
    "#### 02806 - Social data analysis and visualization \n",
    "\n",
    "_____\n",
    "_____\n",
    "_____\n",
    "_____\n",
    "_____"
   ]
  },
  {
   "cell_type": "markdown",
   "metadata": {},
   "source": [
    "## Part 1 - Questions to text and lectures"
   ]
  },
  {
   "cell_type": "markdown",
   "metadata": {},
   "source": [
    "***Exercise 1.1***\n",
    "\n",
    "*What is the Oxford English Dictionary's defintion of a narrative?*\n",
    "\n",
    "***Answer:*** \n",
    "\n",
    "*“An account of a series of events, facts, etc., given in order and with the establishing of connections between them.”*\n",
    "\n",
    "____"
   ]
  },
  {
   "cell_type": "markdown",
   "metadata": {},
   "source": [
    "***Exercise 1.2***\n",
    "\n",
    "*What is your favorite visualization among the examples in section 3? Explain why in a few words.*\n",
    "\n",
    "***Answer:***\n",
    "\n",
    "*Our favorite is 3.2 - 'Budget Forecasts'. The idea of single-frame interactivity is excellent, since it compacts the visualisation, while still given a great deal of information. It also has a nice tacit tutorial, allowing users to participate, as if they are a part of exploring the visualisation. The added mouse-over (tooltip) details augments this compact graph with enough information - when you need it.*\n",
    "\n",
    "_____"
   ]
  },
  {
   "cell_type": "markdown",
   "metadata": {},
   "source": [
    "***Exercise 1.3***\n",
    "\n",
    "*What's the point of Figure 7?*\n",
    "\n",
    "***Answer:*** *The point with the figure is that a lot of different genres of presentation all have som ordering of the data element, and an interactive element of the data visualisation. However, most of them actually fail in (3) giving the user a tutorial on how to use it, or (4) don't use enough messaging to clearly narrate the story*\n",
    "___"
   ]
  },
  {
   "cell_type": "markdown",
   "metadata": {},
   "source": [
    "***Exercise 1.4***\n",
    "\n",
    "*Use Figure 7 to find the most common design choice within each category for the Visual narrative and Narrative structure (the categories within visual narrative are 'visual structuring', 'highlighting', etc).*\n",
    "\n",
    "***Answer:***\n",
    "\n",
    "*The most common design choices in each category is:*\n",
    "\n",
    "- **Visual narrative**\n",
    "    - *Visual structuring*\n",
    "        - *Consistent Visual Platform*\n",
    "    - *Highlighting*\n",
    "        - *Feature distinction*\n",
    "    - *Transition guidance*\n",
    "        - *Object continuity*\n",
    "- **Narrative structure***\n",
    "    - *Ordering*\n",
    "        - *User directed path*\n",
    "    - *Interactivity*\n",
    "        - *Filtering / Selection / Search*\n",
    "    - *Messaging*\n",
    "        - *Captions / Headlines*\n",
    "        \n",
    "_____"
   ]
  },
  {
   "cell_type": "markdown",
   "metadata": {},
   "source": [
    "***Exercise 1.5*** \n",
    "\n",
    "*Check out Figure 8 and section 4.3. What is your favorite genre of narrative visualization? Why? What is your least favorite genre? Why?*"
   ]
  },
  {
   "cell_type": "markdown",
   "metadata": {},
   "source": [
    "***Answer:***\n",
    "\n",
    "*Our favorite genre is Partitioned Poster. A poster can carry a wealth of information, including charts and legends, and can partition the information and present it intuitively. The vivid illustrations are full of fun, and the process of getting the details from the above is very inspiring. My least favorite is Flow Chart for it is boring and unintuitive. Furthermore, flow chart can't reveal changes in time. It will inculcate readers too strongly in the logic of the matter which may fail to combine with some details.*\n",
    "\n",
    "_____"
   ]
  },
  {
   "cell_type": "markdown",
   "metadata": {},
   "source": [
    "***Exercise 1.6***\n",
    "\n",
    "*What are the three key elements to keep in mind when you design an explanatory visualization?*\n",
    "\n",
    "***Answer:*** *There are 3 key elements:*\n",
    "\n",
    "- *Start with the question (What is the question that you want to answer and communicate?)*\n",
    "- *Allow exploration (Let the users investigate the data. Therefore something like D3, or even Tableau can be used)*\n",
    "- *Know you readers (Make sure that you are not dumbing something down for instance to peers. Or making it overly complicated when it needs to be cross-disciplinary)*\n",
    "____\n",
    "\n"
   ]
  },
  {
   "cell_type": "markdown",
   "metadata": {},
   "source": [
    "***Exercise 1.7***\n",
    "\n",
    "*In the video I talk about (1) overview first, (2) zoom and filter, (3) details on demand.*\n",
    "- *Go online and find a visualization that follows these principles (don't use one from the video).*\n",
    "- *Explain how it does achieves (1)-(3). It might be useful to use screenshots to illustrate your explanation.*\n",
    "\n",
    "***Answer:***\n",
    "- *Online we found [this link](http://manpopex.us/)*\n",
    "    - *(1) First you get a good overview of dynamic population of Manhattan.* \n",
    "    - *(2) Then you can zoom in and filter the data that you need, for instance, we can select one district, instead of the 12 districts highlighted.*\n",
    "    - *(3) Then we can specifically select data that happens on each day, to see how much it changes over the day*\n",
    "_________"
   ]
  },
  {
   "cell_type": "markdown",
   "metadata": {},
   "source": [
    "***Exercise 1.8***\n",
    "\n",
    "*Explain in your own words: How is explanatory data analysis different from exploratory data analysis?*\n",
    "\n",
    "***Answer:*** *Exploratory data analysis is where you are looking for correlations and interesting stories that the data has to tell you. This is opposed to the explanatory data analysis, where you've found the interesting story that the data has to show, and you've spent time on visualising that story, so that others may see it as well.*\n",
    "_____"
   ]
  },
  {
   "cell_type": "markdown",
   "metadata": {},
   "source": [
    "## Part 2: Random forest and weather\n",
    "\n",
    "The aim here is to recreate the work you did in Part 1-3 of the Week 7 lecture. I've phrased things differently relative to the exercise to make the purpose more clear.\n",
    "\n",
    "This exercise is divided into two parts:\n",
    "\n",
    "- **Part 2A** - Random forest binary classification\n",
    "- **Part 2B** - Info from weather features\n"
   ]
  },
  {
   "cell_type": "markdown",
   "metadata": {},
   "source": [
    "### Part 2A: Random forest binary classification"
   ]
  },
  {
   "cell_type": "markdown",
   "metadata": {},
   "source": [
    "* Using the and instructions and material from Week 7, build a *random forest* classifier to distinguish between two types (you choose) of crime using on spatio-temporal (where/when) features of data describing the two crimes. When you're done, you should be able to give the classifier a place and a time, and it should tell you which of the two  types of crime happened there.\n",
    "  - Explain about your choices for training/test data, features, and encoding. (You decide how to present your results, but here are some example topics to consider: Did you balance the training data? What are the pros/cons of balancing? Do you think your model is overfitting? Did you choose to do cross-validation? Which specific features did you end up using? Why? Which features (if any) did you one-hot encode? Why ... or why not?))\n",
    "  - Report accuracy. Discuss the model performance."
   ]
  },
  {
   "cell_type": "markdown",
   "metadata": {},
   "source": [
    "***We start off by importing pandas, numpy, and the policing dataset***"
   ]
  },
  {
   "cell_type": "code",
   "execution_count": 2,
   "metadata": {},
   "outputs": [],
   "source": [
    "import numpy as np\n",
    "import pandas as pd\n",
    "\n",
    "df_all = pd.read_csv('../../Police_Department_Incident_Reports__Historical_2003_to_May_2018.csv')"
   ]
  },
  {
   "cell_type": "markdown",
   "metadata": {},
   "source": [
    "***We do some filtering of the data, so that we only have the `CATEGORY`, `DAYOFWEEK`, `TIME`, `PDDISTRICT`, AND `MONTH`***"
   ]
  },
  {
   "cell_type": "code",
   "execution_count": 4,
   "metadata": {},
   "outputs": [
    {
     "output_type": "execute_result",
     "data": {
      "text/plain": [
       "                           Category  DayOfWeek  Time  PdDistrict  Month\n",
       "Date                                                                   \n",
       "2017-04-29 03:00:00+07:00         0          5     3           3      4\n",
       "2013-01-03 00:00:00+07:00         0          2    23           3      1\n",
       "2008-06-13 22:00:00+07:00         0          4    22           4      6\n",
       "2004-05-18 18:00:00+07:00         0          1    17           7      5\n",
       "2008-04-23 05:00:00+07:00         0          2     4           1      4\n",
       "2014-11-25 18:00:00+07:00         0          1    18           1     11\n",
       "2009-09-03 20:00:00+07:00         0          3    19           4      9\n",
       "2013-03-12 19:00:00+07:00         0          1    19           9      3\n",
       "2009-04-20 18:00:00+07:00         0          0    18           3      4\n",
       "2004-05-28 23:00:00+07:00         0          4    23           4      5"
      ],
      "text/html": "<div>\n<style scoped>\n    .dataframe tbody tr th:only-of-type {\n        vertical-align: middle;\n    }\n\n    .dataframe tbody tr th {\n        vertical-align: top;\n    }\n\n    .dataframe thead th {\n        text-align: right;\n    }\n</style>\n<table border=\"1\" class=\"dataframe\">\n  <thead>\n    <tr style=\"text-align: right;\">\n      <th></th>\n      <th>Category</th>\n      <th>DayOfWeek</th>\n      <th>Time</th>\n      <th>PdDistrict</th>\n      <th>Month</th>\n    </tr>\n    <tr>\n      <th>Date</th>\n      <th></th>\n      <th></th>\n      <th></th>\n      <th></th>\n      <th></th>\n    </tr>\n  </thead>\n  <tbody>\n    <tr>\n      <th>2017-04-29 03:00:00+07:00</th>\n      <td>0</td>\n      <td>5</td>\n      <td>3</td>\n      <td>3</td>\n      <td>4</td>\n    </tr>\n    <tr>\n      <th>2013-01-03 00:00:00+07:00</th>\n      <td>0</td>\n      <td>2</td>\n      <td>23</td>\n      <td>3</td>\n      <td>1</td>\n    </tr>\n    <tr>\n      <th>2008-06-13 22:00:00+07:00</th>\n      <td>0</td>\n      <td>4</td>\n      <td>22</td>\n      <td>4</td>\n      <td>6</td>\n    </tr>\n    <tr>\n      <th>2004-05-18 18:00:00+07:00</th>\n      <td>0</td>\n      <td>1</td>\n      <td>17</td>\n      <td>7</td>\n      <td>5</td>\n    </tr>\n    <tr>\n      <th>2008-04-23 05:00:00+07:00</th>\n      <td>0</td>\n      <td>2</td>\n      <td>4</td>\n      <td>1</td>\n      <td>4</td>\n    </tr>\n    <tr>\n      <th>2014-11-25 18:00:00+07:00</th>\n      <td>0</td>\n      <td>1</td>\n      <td>18</td>\n      <td>1</td>\n      <td>11</td>\n    </tr>\n    <tr>\n      <th>2009-09-03 20:00:00+07:00</th>\n      <td>0</td>\n      <td>3</td>\n      <td>19</td>\n      <td>4</td>\n      <td>9</td>\n    </tr>\n    <tr>\n      <th>2013-03-12 19:00:00+07:00</th>\n      <td>0</td>\n      <td>1</td>\n      <td>19</td>\n      <td>9</td>\n      <td>3</td>\n    </tr>\n    <tr>\n      <th>2009-04-20 18:00:00+07:00</th>\n      <td>0</td>\n      <td>0</td>\n      <td>18</td>\n      <td>3</td>\n      <td>4</td>\n    </tr>\n    <tr>\n      <th>2004-05-28 23:00:00+07:00</th>\n      <td>0</td>\n      <td>4</td>\n      <td>23</td>\n      <td>4</td>\n      <td>5</td>\n    </tr>\n  </tbody>\n</table>\n</div>"
     },
     "metadata": {},
     "execution_count": 4
    }
   ],
   "source": [
    "# We chose the columns of interest\n",
    "df_all = df_all.loc[:, [\"Category\",\"DayOfWeek\",\"Date\",\"Time\",\"PdDistrict\"]]\n",
    "\n",
    "# We create a dataset for prostitution\n",
    "df_pro = df_all[df_all['Category'] == 'PROSTITUTION']\n",
    "# We create a dataset for vandalism\n",
    "df_van = df_all[df_all['Category'] == 'VANDALISM']\n",
    "# We sample 15000 data entries from each dataset to create a balanced dataset\n",
    "df_pro = df_pro.sample(15000)\n",
    "df_van = df_van.sample(15000)\n",
    "# We concat the datasets\n",
    "df = pd.concat([df_pro,df_van])\n",
    "\n",
    "# We convert the hour to just be the hour, without the minutes (i.e 22:23 = 22:00)\n",
    "# and also convert it to the appropriate timezone to match the weather data later\n",
    "df[\"Date\"] = df.apply(lambda x: pd.to_datetime(x.Date + \" \" + x.Time).round(\"H\").tz_localize(\"ETC/GMT-7\"), axis = 1)\n",
    "\n",
    "# We convert the day of the week into an integer\n",
    "df['DayOfWeek'] = df['DayOfWeek'].map({'Monday':0,'Tuesday':1,'Wednesday':2,'Thursday':3,'Friday':4,'Saturday':5,'Sunday':6})\n",
    "\n",
    "# We convert the district into an integer \n",
    "df['PdDistrict'] = df['PdDistrict'].map({'BAYVIEW':0,'CENTRAL':1,'INGLESIDE':2,'MISSION':3,'NORTHERN':4,'PARK':5,'RICHMOND':6,'SOUTHERN':7,'TARAVAL':8,'TENDERLOIN':9})\n",
    "\n",
    "# We extract the month from the time data\n",
    "df['Month'] = pd.to_datetime(df['Date']).dt.month\n",
    "\n",
    "# We extract the hour from the time data\n",
    "df['Time'] = pd.to_datetime(df['Time']).dt.hour\n",
    "\n",
    "# We make the categorical data for prostitution and vandalism into integers\n",
    "df['Category'] = df['Category'].map({'PROSTITUTION':0,'VANDALISM':1})\n",
    "\n",
    "# We set the index to the datetime\n",
    "df.set_index('Date', inplace=True)\n",
    "\n",
    "# And display the first 10 incidents in the dataframe\n",
    "df.head(10)"
   ]
  },
  {
   "cell_type": "markdown",
   "metadata": {},
   "source": [
    "***A training and test dataset is chosen with the use of the sklearn.model_selection package***"
   ]
  },
  {
   "cell_type": "code",
   "execution_count": 6,
   "metadata": {},
   "outputs": [],
   "source": [
    "# We choose our features\n",
    "X = df.iloc[:, 1:5].values\n",
    "# We choose targets\n",
    "y = df.iloc[:, 0].values\n",
    "\n",
    "from sklearn.model_selection import train_test_split\n",
    "\n",
    "# We split it in training and test data with our features and target\n",
    "X_train, X_test, y_train, y_test = train_test_split(X, y, test_size=0.1, random_state=20)"
   ]
  },
  {
   "cell_type": "markdown",
   "metadata": {},
   "source": [
    "***Now a fit is made on the dataset with a random forest classifier***"
   ]
  },
  {
   "cell_type": "code",
   "execution_count": 8,
   "metadata": {},
   "outputs": [],
   "source": [
    "from sklearn.ensemble import RandomForestClassifier\n",
    "\n",
    "# Initialise the randomforestclassifier as classifier, with 20 estimators\n",
    "classifier = RandomForestClassifier(n_estimators=20, random_state=20)\n",
    "# We fit the classifier on our training set with features and target\n",
    "classifier.fit(X_train, y_train)\n",
    "\n",
    "# We make a prediction on the test set \n",
    "y_pred = classifier.predict(X_test)\n",
    "\n",
    "# We a prediction on the training set\n",
    "y_train_pred = classifier.predict(X_train)"
   ]
  },
  {
   "cell_type": "markdown",
   "metadata": {},
   "source": [
    "***Now the training and test set accuracy can be reported as follows:***"
   ]
  },
  {
   "cell_type": "code",
   "execution_count": 10,
   "metadata": {},
   "outputs": [
    {
     "output_type": "stream",
     "name": "stdout",
     "text": [
      "training set accuracy:\n0.8892962962962963\ntest set accuracy:\n0.809\n"
     ]
    }
   ],
   "source": [
    "from sklearn.metrics import classification_report, confusion_matrix, accuracy_score\n",
    "\n",
    "#print(confusion_matrix(y_test,y_pred))\n",
    "#print(classification_report(y_test,y_pred))\n",
    "print('training set accuracy:')\n",
    "print(accuracy_score(y_train, y_train_pred))\n",
    "print('test set accuracy:')\n",
    "print(accuracy_score(y_test, y_pred))"
   ]
  },
  {
   "cell_type": "markdown",
   "metadata": {},
   "source": [
    "*From the incident reports dataset, the two categories `PROSTITUTION` and `VANDALISM` was chosen. The training and test set was divided at a ratio of 9:1 with no validation set. In order to insure a balanced dataset, 15000 data points were sampled from both datasets. Using a balanced dataset should greatly increase the model prediction accuracy in the future, as it is not skewed by an uneven amount of data. For instance, if we had 15000 datapoints with the `PROSTITUTION` category and 1000 points of the `VANDALISM` category, then the model is much more likely to predict `PROSTITUTION` over `VANDLISM`*\n",
    "\n",
    "In the above model, it is clear that the training set prediction accuracy is 89% compared to the test set prediction accuracy of 82%. This is of course not a massive descrepancy, but it should be taken into consideration, if the model prediction accuracy should be improved - ideally it will give the same accuracy for the training and test set. The small difference in prediction accuracy may be accredited to the fact that the Random Forest has been used over just a Decision Tree - this is a good way of eliminating the risk of overfitting on datasets, since it will generate several decision trees and then use the model that overfits the least but with the higest prediction accuracy possible. \n",
    "\n",
    "In this case, one-hot encoding was not used - categorical data was transformed into integers to allow for easier interpretation of the classifier."
   ]
  },
  {
   "cell_type": "markdown",
   "metadata": {},
   "source": [
    "### Part 2B: Info from weather features"
   ]
  },
  {
   "cell_type": "markdown",
   "metadata": {},
   "source": [
    "* Now add features from weather data to your random forest. \n",
    "  - Report accuracy. \n",
    "  - Discuss how the model performance changes relative to the version with no weather data.\n",
    "  - Discuss what you have learned about crime from including weather data in your model."
   ]
  },
  {
   "cell_type": "code",
   "execution_count": 12,
   "metadata": {},
   "outputs": [
    {
     "output_type": "execute_result",
     "data": {
      "text/plain": [
       "                           temperature  humidity  weather  wind_speed  \\\n",
       "Date                                                                    \n",
       "2012-10-01 23:00:00+07:00    16.330000      88.0        0         2.0   \n",
       "2012-10-02 00:00:00+07:00    16.324993      87.0        1         2.0   \n",
       "2012-10-02 01:00:00+07:00    16.310618      86.0        1         2.0   \n",
       "2012-10-02 02:00:00+07:00    16.296243      85.0        1         2.0   \n",
       "2012-10-02 03:00:00+07:00    16.281869      84.0        1         2.0   \n",
       "\n",
       "                           wind_direction  pressure  \n",
       "Date                                                 \n",
       "2012-10-01 23:00:00+07:00           150.0    1009.0  \n",
       "2012-10-02 00:00:00+07:00           147.0    1009.0  \n",
       "2012-10-02 01:00:00+07:00           141.0    1009.0  \n",
       "2012-10-02 02:00:00+07:00           135.0    1009.0  \n",
       "2012-10-02 03:00:00+07:00           129.0    1009.0  "
      ],
      "text/html": "<div>\n<style scoped>\n    .dataframe tbody tr th:only-of-type {\n        vertical-align: middle;\n    }\n\n    .dataframe tbody tr th {\n        vertical-align: top;\n    }\n\n    .dataframe thead th {\n        text-align: right;\n    }\n</style>\n<table border=\"1\" class=\"dataframe\">\n  <thead>\n    <tr style=\"text-align: right;\">\n      <th></th>\n      <th>temperature</th>\n      <th>humidity</th>\n      <th>weather</th>\n      <th>wind_speed</th>\n      <th>wind_direction</th>\n      <th>pressure</th>\n    </tr>\n    <tr>\n      <th>Date</th>\n      <th></th>\n      <th></th>\n      <th></th>\n      <th></th>\n      <th></th>\n      <th></th>\n    </tr>\n  </thead>\n  <tbody>\n    <tr>\n      <th>2012-10-01 23:00:00+07:00</th>\n      <td>16.330000</td>\n      <td>88.0</td>\n      <td>0</td>\n      <td>2.0</td>\n      <td>150.0</td>\n      <td>1009.0</td>\n    </tr>\n    <tr>\n      <th>2012-10-02 00:00:00+07:00</th>\n      <td>16.324993</td>\n      <td>87.0</td>\n      <td>1</td>\n      <td>2.0</td>\n      <td>147.0</td>\n      <td>1009.0</td>\n    </tr>\n    <tr>\n      <th>2012-10-02 01:00:00+07:00</th>\n      <td>16.310618</td>\n      <td>86.0</td>\n      <td>1</td>\n      <td>2.0</td>\n      <td>141.0</td>\n      <td>1009.0</td>\n    </tr>\n    <tr>\n      <th>2012-10-02 02:00:00+07:00</th>\n      <td>16.296243</td>\n      <td>85.0</td>\n      <td>1</td>\n      <td>2.0</td>\n      <td>135.0</td>\n      <td>1009.0</td>\n    </tr>\n    <tr>\n      <th>2012-10-02 03:00:00+07:00</th>\n      <td>16.281869</td>\n      <td>84.0</td>\n      <td>1</td>\n      <td>2.0</td>\n      <td>129.0</td>\n      <td>1009.0</td>\n    </tr>\n  </tbody>\n</table>\n</div>"
     },
     "metadata": {},
     "execution_count": 12
    }
   ],
   "source": [
    "weather = pd.read_csv(\"weather.csv\", parse_dates=[\"date\"],date_parser=lambda x: pd.to_datetime(x).tz_convert(None).tz_localize(\"Etc/GMT+3\").tz_convert(\"Etc/GMT-7\"))\n",
    "weather['Date'] = weather['date']\n",
    "weather = weather.drop('date', 1)\n",
    "weather.set_index('Date', inplace=True)\n",
    "weather['weather'] = pd.Categorical(weather['weather'], categories=weather['weather'].unique()).codes\n",
    "weather.head()"
   ]
  },
  {
   "cell_type": "code",
   "execution_count": 14,
   "metadata": {},
   "outputs": [
    {
     "output_type": "execute_result",
     "data": {
      "text/plain": [
       "                           Category  DayOfWeek  Time  PdDistrict  Month  \\\n",
       "Date                                                                      \n",
       "2012-10-02 02:00:00+07:00         0          1     2           3     10   \n",
       "2012-10-02 02:00:00+07:00         0          1     1           3     10   \n",
       "2012-10-02 02:00:00+07:00         0          1     2           3     10   \n",
       "2012-10-02 15:00:00+07:00         1          1    15           2     10   \n",
       "2012-10-03 09:00:00+07:00         1          2     8           2     10   \n",
       "\n",
       "                           temperature  humidity  weather  wind_speed  \\\n",
       "Date                                                                    \n",
       "2012-10-02 02:00:00+07:00    16.296243      85.0        1         2.0   \n",
       "2012-10-02 02:00:00+07:00    16.296243      85.0        1         2.0   \n",
       "2012-10-02 02:00:00+07:00    16.296243      85.0        1         2.0   \n",
       "2012-10-02 15:00:00+07:00    16.109372      72.0        1         0.0   \n",
       "2012-10-03 09:00:00+07:00    31.710000      11.0        1         7.0   \n",
       "\n",
       "                           wind_direction  pressure  \n",
       "Date                                                 \n",
       "2012-10-02 02:00:00+07:00           135.0    1009.0  \n",
       "2012-10-02 02:00:00+07:00           135.0    1009.0  \n",
       "2012-10-02 02:00:00+07:00           135.0    1009.0  \n",
       "2012-10-02 15:00:00+07:00            55.0    1012.0  \n",
       "2012-10-03 09:00:00+07:00           280.0    1013.0  "
      ],
      "text/html": "<div>\n<style scoped>\n    .dataframe tbody tr th:only-of-type {\n        vertical-align: middle;\n    }\n\n    .dataframe tbody tr th {\n        vertical-align: top;\n    }\n\n    .dataframe thead th {\n        text-align: right;\n    }\n</style>\n<table border=\"1\" class=\"dataframe\">\n  <thead>\n    <tr style=\"text-align: right;\">\n      <th></th>\n      <th>Category</th>\n      <th>DayOfWeek</th>\n      <th>Time</th>\n      <th>PdDistrict</th>\n      <th>Month</th>\n      <th>temperature</th>\n      <th>humidity</th>\n      <th>weather</th>\n      <th>wind_speed</th>\n      <th>wind_direction</th>\n      <th>pressure</th>\n    </tr>\n    <tr>\n      <th>Date</th>\n      <th></th>\n      <th></th>\n      <th></th>\n      <th></th>\n      <th></th>\n      <th></th>\n      <th></th>\n      <th></th>\n      <th></th>\n      <th></th>\n      <th></th>\n    </tr>\n  </thead>\n  <tbody>\n    <tr>\n      <th>2012-10-02 02:00:00+07:00</th>\n      <td>0</td>\n      <td>1</td>\n      <td>2</td>\n      <td>3</td>\n      <td>10</td>\n      <td>16.296243</td>\n      <td>85.0</td>\n      <td>1</td>\n      <td>2.0</td>\n      <td>135.0</td>\n      <td>1009.0</td>\n    </tr>\n    <tr>\n      <th>2012-10-02 02:00:00+07:00</th>\n      <td>0</td>\n      <td>1</td>\n      <td>1</td>\n      <td>3</td>\n      <td>10</td>\n      <td>16.296243</td>\n      <td>85.0</td>\n      <td>1</td>\n      <td>2.0</td>\n      <td>135.0</td>\n      <td>1009.0</td>\n    </tr>\n    <tr>\n      <th>2012-10-02 02:00:00+07:00</th>\n      <td>0</td>\n      <td>1</td>\n      <td>2</td>\n      <td>3</td>\n      <td>10</td>\n      <td>16.296243</td>\n      <td>85.0</td>\n      <td>1</td>\n      <td>2.0</td>\n      <td>135.0</td>\n      <td>1009.0</td>\n    </tr>\n    <tr>\n      <th>2012-10-02 15:00:00+07:00</th>\n      <td>1</td>\n      <td>1</td>\n      <td>15</td>\n      <td>2</td>\n      <td>10</td>\n      <td>16.109372</td>\n      <td>72.0</td>\n      <td>1</td>\n      <td>0.0</td>\n      <td>55.0</td>\n      <td>1012.0</td>\n    </tr>\n    <tr>\n      <th>2012-10-03 09:00:00+07:00</th>\n      <td>1</td>\n      <td>2</td>\n      <td>8</td>\n      <td>2</td>\n      <td>10</td>\n      <td>31.710000</td>\n      <td>11.0</td>\n      <td>1</td>\n      <td>7.0</td>\n      <td>280.0</td>\n      <td>1013.0</td>\n    </tr>\n  </tbody>\n</table>\n</div>"
     },
     "metadata": {},
     "execution_count": 14
    }
   ],
   "source": [
    "df_merge = pd.merge(df, weather, how='inner', left_index=True, right_index=True).dropna()\n",
    "df_merge.head()"
   ]
  },
  {
   "cell_type": "code",
   "execution_count": 16,
   "metadata": {},
   "outputs": [],
   "source": [
    "X = df_merge.iloc[:, 1:11].values\n",
    "y = df_merge.iloc[:, 0].values\n",
    "X_train, X_test, y_train, y_test = train_test_split(X, y, test_size=0.1, random_state=20)"
   ]
  },
  {
   "cell_type": "code",
   "execution_count": 18,
   "metadata": {},
   "outputs": [],
   "source": [
    "from sklearn.preprocessing import StandardScaler\n",
    "\n",
    "sc = StandardScaler()\n",
    "X_train = sc.fit_transform(X_train)\n",
    "X_test = sc.transform(X_test)"
   ]
  },
  {
   "cell_type": "code",
   "execution_count": 20,
   "metadata": {},
   "outputs": [],
   "source": [
    "classifier = RandomForestClassifier(n_estimators=20, random_state=20)\n",
    "classifier.fit(X_train, y_train)\n",
    "y_pred = classifier.predict(X_test)"
   ]
  },
  {
   "cell_type": "code",
   "execution_count": 22,
   "metadata": {},
   "outputs": [
    {
     "output_type": "stream",
     "name": "stdout",
     "text": [
      "[[213  50]\n [ 27 489]]\n              precision    recall  f1-score   support\n\n           0       0.89      0.81      0.85       263\n           1       0.91      0.95      0.93       516\n\n    accuracy                           0.90       779\n   macro avg       0.90      0.88      0.89       779\nweighted avg       0.90      0.90      0.90       779\n\n0.9011553273427471\n"
     ]
    }
   ],
   "source": [
    "print(confusion_matrix(y_test,y_pred))\n",
    "print(classification_report(y_test,y_pred))\n",
    "print(accuracy_score(y_test, y_pred))"
   ]
  },
  {
   "cell_type": "markdown",
   "metadata": {},
   "source": [
    "(Some analysis for model including weather data...)"
   ]
  },
  {
   "cell_type": "markdown",
   "metadata": {},
   "source": [
    "## Part 3: Data visualization\n",
    "\n",
    "* Create the Bokeh visualization from Part 2 of the Week 8 Lecture, displayed in a beautiful `.gif` below. \n",
    "* Provide nice comments for your code. Don't just use the `# inline comments`, but the full Notebook markdown capabilities and explain what you're doing.\n",
    "\n",
    "![Movie](https://github.com/suneman/socialdataanalysis2020/blob/master/files/week8_1.gif?raw=true \"movie\")"
   ]
  },
  {
   "cell_type": "markdown",
   "metadata": {},
   "source": [
    "*Here is our gif(It is saved on the google dirve):*\n",
    "\n",
    "\n",
    "![Movie](https://drive.google.com/uc?export=view&id=1maZubl3ac2JH0Z_UEkiaqWywdRQldkqF \"movie\")"
   ]
  },
  {
   "cell_type": "code",
   "execution_count": 24,
   "metadata": {},
   "outputs": [],
   "source": [
    "df = pd.read_csv('../../Police_Department_Incident_Reports__Historical_2003_to_May_2018.csv', parse_dates=[['Date', 'Time']])\n",
    "df = df[(df['Date_Time'].dt.year >= 2010) & (df['Date_Time'].dt.year <= 2018)]"
   ]
  },
  {
   "cell_type": "code",
   "execution_count": 26,
   "metadata": {},
   "outputs": [
    {
     "output_type": "execute_result",
     "data": {
      "text/plain": [
       "   WEAPON LAWS  PROSTITUTION  DRIVING UNDER THE INFLUENCE   ROBBERY  BURGLARY  \\\n",
       "0     0.054658      0.129965                     0.120321  0.055337  0.040437   \n",
       "1     0.039489      0.096167                     0.112002  0.060035  0.027947   \n",
       "2     0.033965      0.060976                     0.098930  0.060345  0.031685   \n",
       "3     0.023743      0.036585                     0.047534  0.037375  0.033482   \n",
       "4     0.016241      0.019512                     0.017231  0.023489  0.029889   \n",
       "\n",
       "    ASSAULT  DRUNKENNESS  DRUG/NARCOTIC  TRESPASS  LARCENY/THEFT  VANDALISM  \\\n",
       "0  0.056427     0.080726       0.034677  0.028392       0.039461   0.054485   \n",
       "1  0.048098     0.076938       0.020679  0.020475       0.025276   0.038185   \n",
       "2  0.043706     0.070361       0.016767  0.025571       0.015452   0.035545   \n",
       "3  0.023417     0.026909       0.012391  0.021294       0.009955   0.025907   \n",
       "4  0.014566     0.014152       0.009198  0.016198       0.006559   0.017711   \n",
       "\n",
       "   VEHICLE THEFT  STOLEN PROPERTY  DISORDERLY CONDUCT  Hour  \n",
       "0       0.035958         0.044469            0.051670     1  \n",
       "1       0.024205         0.033556            0.038017     2  \n",
       "2       0.018258         0.029464            0.032346     3  \n",
       "3       0.011993         0.023462            0.018273     4  \n",
       "4       0.010077         0.020052            0.015123     5  "
      ],
      "text/html": "<div>\n<style scoped>\n    .dataframe tbody tr th:only-of-type {\n        vertical-align: middle;\n    }\n\n    .dataframe tbody tr th {\n        vertical-align: top;\n    }\n\n    .dataframe thead th {\n        text-align: right;\n    }\n</style>\n<table border=\"1\" class=\"dataframe\">\n  <thead>\n    <tr style=\"text-align: right;\">\n      <th></th>\n      <th>WEAPON LAWS</th>\n      <th>PROSTITUTION</th>\n      <th>DRIVING UNDER THE INFLUENCE</th>\n      <th>ROBBERY</th>\n      <th>BURGLARY</th>\n      <th>ASSAULT</th>\n      <th>DRUNKENNESS</th>\n      <th>DRUG/NARCOTIC</th>\n      <th>TRESPASS</th>\n      <th>LARCENY/THEFT</th>\n      <th>VANDALISM</th>\n      <th>VEHICLE THEFT</th>\n      <th>STOLEN PROPERTY</th>\n      <th>DISORDERLY CONDUCT</th>\n      <th>Hour</th>\n    </tr>\n  </thead>\n  <tbody>\n    <tr>\n      <th>0</th>\n      <td>0.054658</td>\n      <td>0.129965</td>\n      <td>0.120321</td>\n      <td>0.055337</td>\n      <td>0.040437</td>\n      <td>0.056427</td>\n      <td>0.080726</td>\n      <td>0.034677</td>\n      <td>0.028392</td>\n      <td>0.039461</td>\n      <td>0.054485</td>\n      <td>0.035958</td>\n      <td>0.044469</td>\n      <td>0.051670</td>\n      <td>1</td>\n    </tr>\n    <tr>\n      <th>1</th>\n      <td>0.039489</td>\n      <td>0.096167</td>\n      <td>0.112002</td>\n      <td>0.060035</td>\n      <td>0.027947</td>\n      <td>0.048098</td>\n      <td>0.076938</td>\n      <td>0.020679</td>\n      <td>0.020475</td>\n      <td>0.025276</td>\n      <td>0.038185</td>\n      <td>0.024205</td>\n      <td>0.033556</td>\n      <td>0.038017</td>\n      <td>2</td>\n    </tr>\n    <tr>\n      <th>2</th>\n      <td>0.033965</td>\n      <td>0.060976</td>\n      <td>0.098930</td>\n      <td>0.060345</td>\n      <td>0.031685</td>\n      <td>0.043706</td>\n      <td>0.070361</td>\n      <td>0.016767</td>\n      <td>0.025571</td>\n      <td>0.015452</td>\n      <td>0.035545</td>\n      <td>0.018258</td>\n      <td>0.029464</td>\n      <td>0.032346</td>\n      <td>3</td>\n    </tr>\n    <tr>\n      <th>3</th>\n      <td>0.023743</td>\n      <td>0.036585</td>\n      <td>0.047534</td>\n      <td>0.037375</td>\n      <td>0.033482</td>\n      <td>0.023417</td>\n      <td>0.026909</td>\n      <td>0.012391</td>\n      <td>0.021294</td>\n      <td>0.009955</td>\n      <td>0.025907</td>\n      <td>0.011993</td>\n      <td>0.023462</td>\n      <td>0.018273</td>\n      <td>4</td>\n    </tr>\n    <tr>\n      <th>4</th>\n      <td>0.016241</td>\n      <td>0.019512</td>\n      <td>0.017231</td>\n      <td>0.023489</td>\n      <td>0.029889</td>\n      <td>0.014566</td>\n      <td>0.014152</td>\n      <td>0.009198</td>\n      <td>0.016198</td>\n      <td>0.006559</td>\n      <td>0.017711</td>\n      <td>0.010077</td>\n      <td>0.020052</td>\n      <td>0.015123</td>\n      <td>5</td>\n    </tr>\n  </tbody>\n</table>\n</div>"
     },
     "metadata": {},
     "execution_count": 26
    }
   ],
   "source": [
    "focuscrimes = ['WEAPON LAWS', 'PROSTITUTION', 'DRIVING UNDER THE INFLUENCE', 'ROBBERY', 'BURGLARY', 'ASSAULT', 'DRUNKENNESS', 'DRUG/NARCOTIC', 'TRESPASS', 'LARCENY/THEFT', 'VANDALISM', 'VEHICLE THEFT', 'STOLEN PROPERTY', 'DISORDERLY CONDUCT']\n",
    "\n",
    "df_norm = pd.DataFrame(np.zeros((24, len(focuscrimes))),columns=focuscrimes)\n",
    "df_norm['Hour'] = [x for x in range(1, 25)]\n",
    "# df_norm = df_norm.set_index('Hour')\n",
    "\n",
    "for i, crime_type in enumerate(focuscrimes):\n",
    "    df_CT = df[df['Category'] == crime_type]\n",
    "    countByHour_CT = df_CT.groupby(df['Date_Time'].dt.hour).count()[\"PdId\"]\n",
    "    df_norm[crime_type] = [float(i)/sum(countByHour_CT.values) for i in countByHour_CT.values]\n",
    "df_norm.head()"
   ]
  },
  {
   "cell_type": "code",
   "execution_count": 28,
   "metadata": {},
   "outputs": [
    {
     "output_type": "display_data",
     "data": {
      "text/html": "\n    <div class=\"bk-root\">\n        <a href=\"https://bokeh.org\" target=\"_blank\" class=\"bk-logo bk-logo-small bk-logo-notebook\"></a>\n        <span id=\"1002\">Loading BokehJS ...</span>\n    </div>"
     },
     "metadata": {}
    },
    {
     "output_type": "display_data",
     "data": {
      "application/javascript": "\n(function(root) {\n  function now() {\n    return new Date();\n  }\n\n  var force = true;\n\n  if (typeof root._bokeh_onload_callbacks === \"undefined\" || force === true) {\n    root._bokeh_onload_callbacks = [];\n    root._bokeh_is_loading = undefined;\n  }\n\n  var JS_MIME_TYPE = 'application/javascript';\n  var HTML_MIME_TYPE = 'text/html';\n  var EXEC_MIME_TYPE = 'application/vnd.bokehjs_exec.v0+json';\n  var CLASS_NAME = 'output_bokeh rendered_html';\n\n  /**\n   * Render data to the DOM node\n   */\n  function render(props, node) {\n    var script = document.createElement(\"script\");\n    node.appendChild(script);\n  }\n\n  /**\n   * Handle when an output is cleared or removed\n   */\n  function handleClearOutput(event, handle) {\n    var cell = handle.cell;\n\n    var id = cell.output_area._bokeh_element_id;\n    var server_id = cell.output_area._bokeh_server_id;\n    // Clean up Bokeh references\n    if (id != null && id in Bokeh.index) {\n      Bokeh.index[id].model.document.clear();\n      delete Bokeh.index[id];\n    }\n\n    if (server_id !== undefined) {\n      // Clean up Bokeh references\n      var cmd = \"from bokeh.io.state import curstate; print(curstate().uuid_to_server['\" + server_id + \"'].get_sessions()[0].document.roots[0]._id)\";\n      cell.notebook.kernel.execute(cmd, {\n        iopub: {\n          output: function(msg) {\n            var id = msg.content.text.trim();\n            if (id in Bokeh.index) {\n              Bokeh.index[id].model.document.clear();\n              delete Bokeh.index[id];\n            }\n          }\n        }\n      });\n      // Destroy server and session\n      var cmd = \"import bokeh.io.notebook as ion; ion.destroy_server('\" + server_id + \"')\";\n      cell.notebook.kernel.execute(cmd);\n    }\n  }\n\n  /**\n   * Handle when a new output is added\n   */\n  function handleAddOutput(event, handle) {\n    var output_area = handle.output_area;\n    var output = handle.output;\n\n    // limit handleAddOutput to display_data with EXEC_MIME_TYPE content only\n    if ((output.output_type != \"display_data\") || (!output.data.hasOwnProperty(EXEC_MIME_TYPE))) {\n      return\n    }\n\n    var toinsert = output_area.element.find(\".\" + CLASS_NAME.split(' ')[0]);\n\n    if (output.metadata[EXEC_MIME_TYPE][\"id\"] !== undefined) {\n      toinsert[toinsert.length - 1].firstChild.textContent = output.data[JS_MIME_TYPE];\n      // store reference to embed id on output_area\n      output_area._bokeh_element_id = output.metadata[EXEC_MIME_TYPE][\"id\"];\n    }\n    if (output.metadata[EXEC_MIME_TYPE][\"server_id\"] !== undefined) {\n      var bk_div = document.createElement(\"div\");\n      bk_div.innerHTML = output.data[HTML_MIME_TYPE];\n      var script_attrs = bk_div.children[0].attributes;\n      for (var i = 0; i < script_attrs.length; i++) {\n        toinsert[toinsert.length - 1].firstChild.setAttribute(script_attrs[i].name, script_attrs[i].value);\n        toinsert[toinsert.length - 1].firstChild.textContent = bk_div.children[0].textContent\n      }\n      // store reference to server id on output_area\n      output_area._bokeh_server_id = output.metadata[EXEC_MIME_TYPE][\"server_id\"];\n    }\n  }\n\n  function register_renderer(events, OutputArea) {\n\n    function append_mime(data, metadata, element) {\n      // create a DOM node to render to\n      var toinsert = this.create_output_subarea(\n        metadata,\n        CLASS_NAME,\n        EXEC_MIME_TYPE\n      );\n      this.keyboard_manager.register_events(toinsert);\n      // Render to node\n      var props = {data: data, metadata: metadata[EXEC_MIME_TYPE]};\n      render(props, toinsert[toinsert.length - 1]);\n      element.append(toinsert);\n      return toinsert\n    }\n\n    /* Handle when an output is cleared or removed */\n    events.on('clear_output.CodeCell', handleClearOutput);\n    events.on('delete.Cell', handleClearOutput);\n\n    /* Handle when a new output is added */\n    events.on('output_added.OutputArea', handleAddOutput);\n\n    /**\n     * Register the mime type and append_mime function with output_area\n     */\n    OutputArea.prototype.register_mime_type(EXEC_MIME_TYPE, append_mime, {\n      /* Is output safe? */\n      safe: true,\n      /* Index of renderer in `output_area.display_order` */\n      index: 0\n    });\n  }\n\n  // register the mime type if in Jupyter Notebook environment and previously unregistered\n  if (root.Jupyter !== undefined) {\n    var events = require('base/js/events');\n    var OutputArea = require('notebook/js/outputarea').OutputArea;\n\n    if (OutputArea.prototype.mime_types().indexOf(EXEC_MIME_TYPE) == -1) {\n      register_renderer(events, OutputArea);\n    }\n  }\n\n  \n  if (typeof (root._bokeh_timeout) === \"undefined\" || force === true) {\n    root._bokeh_timeout = Date.now() + 5000;\n    root._bokeh_failed_load = false;\n  }\n\n  var NB_LOAD_WARNING = {'data': {'text/html':\n     \"<div style='background-color: #fdd'>\\n\"+\n     \"<p>\\n\"+\n     \"BokehJS does not appear to have successfully loaded. If loading BokehJS from CDN, this \\n\"+\n     \"may be due to a slow or bad network connection. Possible fixes:\\n\"+\n     \"</p>\\n\"+\n     \"<ul>\\n\"+\n     \"<li>re-rerun `output_notebook()` to attempt to load from CDN again, or</li>\\n\"+\n     \"<li>use INLINE resources instead, as so:</li>\\n\"+\n     \"</ul>\\n\"+\n     \"<code>\\n\"+\n     \"from bokeh.resources import INLINE\\n\"+\n     \"output_notebook(resources=INLINE)\\n\"+\n     \"</code>\\n\"+\n     \"</div>\"}};\n\n  function display_loaded() {\n    var el = document.getElementById(\"1002\");\n    if (el != null) {\n      el.textContent = \"BokehJS is loading...\";\n    }\n    if (root.Bokeh !== undefined) {\n      if (el != null) {\n        el.textContent = \"BokehJS \" + root.Bokeh.version + \" successfully loaded.\";\n      }\n    } else if (Date.now() < root._bokeh_timeout) {\n      setTimeout(display_loaded, 100)\n    }\n  }\n\n\n  function run_callbacks() {\n    try {\n      root._bokeh_onload_callbacks.forEach(function(callback) {\n        if (callback != null)\n          callback();\n      });\n    } finally {\n      delete root._bokeh_onload_callbacks\n    }\n    console.debug(\"Bokeh: all callbacks have finished\");\n  }\n\n  function load_libs(css_urls, js_urls, callback) {\n    if (css_urls == null) css_urls = [];\n    if (js_urls == null) js_urls = [];\n\n    root._bokeh_onload_callbacks.push(callback);\n    if (root._bokeh_is_loading > 0) {\n      console.debug(\"Bokeh: BokehJS is being loaded, scheduling callback at\", now());\n      return null;\n    }\n    if (js_urls == null || js_urls.length === 0) {\n      run_callbacks();\n      return null;\n    }\n    console.debug(\"Bokeh: BokehJS not loaded, scheduling load and callback at\", now());\n    root._bokeh_is_loading = css_urls.length + js_urls.length;\n\n    function on_load() {\n      root._bokeh_is_loading--;\n      if (root._bokeh_is_loading === 0) {\n        console.debug(\"Bokeh: all BokehJS libraries/stylesheets loaded\");\n        run_callbacks()\n      }\n    }\n\n    function on_error() {\n      console.error(\"failed to load \" + url);\n    }\n\n    for (var i = 0; i < css_urls.length; i++) {\n      var url = css_urls[i];\n      const element = document.createElement(\"link\");\n      element.onload = on_load;\n      element.onerror = on_error;\n      element.rel = \"stylesheet\";\n      element.type = \"text/css\";\n      element.href = url;\n      console.debug(\"Bokeh: injecting link tag for BokehJS stylesheet: \", url);\n      document.body.appendChild(element);\n    }\n\n    const hashes = {\"https://cdn.bokeh.org/bokeh/release/bokeh-2.2.3.min.js\": \"T2yuo9Oe71Cz/I4X9Ac5+gpEa5a8PpJCDlqKYO0CfAuEszu1JrXLl8YugMqYe3sM\", \"https://cdn.bokeh.org/bokeh/release/bokeh-widgets-2.2.3.min.js\": \"98GDGJ0kOMCUMUePhksaQ/GYgB3+NH9h996V88sh3aOiUNX3N+fLXAtry6xctSZ6\", \"https://cdn.bokeh.org/bokeh/release/bokeh-tables-2.2.3.min.js\": \"89bArO+nlbP3sgakeHjCo1JYxYR5wufVgA3IbUvDY+K7w4zyxJqssu7wVnfeKCq8\"};\n\n    for (var i = 0; i < js_urls.length; i++) {\n      var url = js_urls[i];\n      var element = document.createElement('script');\n      element.onload = on_load;\n      element.onerror = on_error;\n      element.async = false;\n      element.src = url;\n      if (url in hashes) {\n        element.crossOrigin = \"anonymous\";\n        element.integrity = \"sha384-\" + hashes[url];\n      }\n      console.debug(\"Bokeh: injecting script tag for BokehJS library: \", url);\n      document.head.appendChild(element);\n    }\n  };\n\n  function inject_raw_css(css) {\n    const element = document.createElement(\"style\");\n    element.appendChild(document.createTextNode(css));\n    document.body.appendChild(element);\n  }\n\n  \n  var js_urls = [\"https://cdn.bokeh.org/bokeh/release/bokeh-2.2.3.min.js\", \"https://cdn.bokeh.org/bokeh/release/bokeh-widgets-2.2.3.min.js\", \"https://cdn.bokeh.org/bokeh/release/bokeh-tables-2.2.3.min.js\"];\n  var css_urls = [];\n  \n\n  var inline_js = [\n    function(Bokeh) {\n      Bokeh.set_log_level(\"info\");\n    },\n    function(Bokeh) {\n    \n    \n    }\n  ];\n\n  function run_inline_js() {\n    \n    if (root.Bokeh !== undefined || force === true) {\n      \n    for (var i = 0; i < inline_js.length; i++) {\n      inline_js[i].call(root, root.Bokeh);\n    }\n    if (force === true) {\n        display_loaded();\n      }} else if (Date.now() < root._bokeh_timeout) {\n      setTimeout(run_inline_js, 100);\n    } else if (!root._bokeh_failed_load) {\n      console.log(\"Bokeh: BokehJS failed to load within specified timeout.\");\n      root._bokeh_failed_load = true;\n    } else if (force !== true) {\n      var cell = $(document.getElementById(\"1002\")).parents('.cell').data().cell;\n      cell.output_area.append_execute_result(NB_LOAD_WARNING)\n    }\n\n  }\n\n  if (root._bokeh_is_loading === 0) {\n    console.debug(\"Bokeh: BokehJS loaded, going straight to plotting\");\n    run_inline_js();\n  } else {\n    load_libs(css_urls, js_urls, function() {\n      console.debug(\"Bokeh: BokehJS plotting callback run at\", now());\n      run_inline_js();\n    });\n  }\n}(window));",
      "application/vnd.bokehjs_load.v0+json": "\n(function(root) {\n  function now() {\n    return new Date();\n  }\n\n  var force = true;\n\n  if (typeof root._bokeh_onload_callbacks === \"undefined\" || force === true) {\n    root._bokeh_onload_callbacks = [];\n    root._bokeh_is_loading = undefined;\n  }\n\n  \n\n  \n  if (typeof (root._bokeh_timeout) === \"undefined\" || force === true) {\n    root._bokeh_timeout = Date.now() + 5000;\n    root._bokeh_failed_load = false;\n  }\n\n  var NB_LOAD_WARNING = {'data': {'text/html':\n     \"<div style='background-color: #fdd'>\\n\"+\n     \"<p>\\n\"+\n     \"BokehJS does not appear to have successfully loaded. If loading BokehJS from CDN, this \\n\"+\n     \"may be due to a slow or bad network connection. Possible fixes:\\n\"+\n     \"</p>\\n\"+\n     \"<ul>\\n\"+\n     \"<li>re-rerun `output_notebook()` to attempt to load from CDN again, or</li>\\n\"+\n     \"<li>use INLINE resources instead, as so:</li>\\n\"+\n     \"</ul>\\n\"+\n     \"<code>\\n\"+\n     \"from bokeh.resources import INLINE\\n\"+\n     \"output_notebook(resources=INLINE)\\n\"+\n     \"</code>\\n\"+\n     \"</div>\"}};\n\n  function display_loaded() {\n    var el = document.getElementById(\"1002\");\n    if (el != null) {\n      el.textContent = \"BokehJS is loading...\";\n    }\n    if (root.Bokeh !== undefined) {\n      if (el != null) {\n        el.textContent = \"BokehJS \" + root.Bokeh.version + \" successfully loaded.\";\n      }\n    } else if (Date.now() < root._bokeh_timeout) {\n      setTimeout(display_loaded, 100)\n    }\n  }\n\n\n  function run_callbacks() {\n    try {\n      root._bokeh_onload_callbacks.forEach(function(callback) {\n        if (callback != null)\n          callback();\n      });\n    } finally {\n      delete root._bokeh_onload_callbacks\n    }\n    console.debug(\"Bokeh: all callbacks have finished\");\n  }\n\n  function load_libs(css_urls, js_urls, callback) {\n    if (css_urls == null) css_urls = [];\n    if (js_urls == null) js_urls = [];\n\n    root._bokeh_onload_callbacks.push(callback);\n    if (root._bokeh_is_loading > 0) {\n      console.debug(\"Bokeh: BokehJS is being loaded, scheduling callback at\", now());\n      return null;\n    }\n    if (js_urls == null || js_urls.length === 0) {\n      run_callbacks();\n      return null;\n    }\n    console.debug(\"Bokeh: BokehJS not loaded, scheduling load and callback at\", now());\n    root._bokeh_is_loading = css_urls.length + js_urls.length;\n\n    function on_load() {\n      root._bokeh_is_loading--;\n      if (root._bokeh_is_loading === 0) {\n        console.debug(\"Bokeh: all BokehJS libraries/stylesheets loaded\");\n        run_callbacks()\n      }\n    }\n\n    function on_error() {\n      console.error(\"failed to load \" + url);\n    }\n\n    for (var i = 0; i < css_urls.length; i++) {\n      var url = css_urls[i];\n      const element = document.createElement(\"link\");\n      element.onload = on_load;\n      element.onerror = on_error;\n      element.rel = \"stylesheet\";\n      element.type = \"text/css\";\n      element.href = url;\n      console.debug(\"Bokeh: injecting link tag for BokehJS stylesheet: \", url);\n      document.body.appendChild(element);\n    }\n\n    const hashes = {\"https://cdn.bokeh.org/bokeh/release/bokeh-2.2.3.min.js\": \"T2yuo9Oe71Cz/I4X9Ac5+gpEa5a8PpJCDlqKYO0CfAuEszu1JrXLl8YugMqYe3sM\", \"https://cdn.bokeh.org/bokeh/release/bokeh-widgets-2.2.3.min.js\": \"98GDGJ0kOMCUMUePhksaQ/GYgB3+NH9h996V88sh3aOiUNX3N+fLXAtry6xctSZ6\", \"https://cdn.bokeh.org/bokeh/release/bokeh-tables-2.2.3.min.js\": \"89bArO+nlbP3sgakeHjCo1JYxYR5wufVgA3IbUvDY+K7w4zyxJqssu7wVnfeKCq8\"};\n\n    for (var i = 0; i < js_urls.length; i++) {\n      var url = js_urls[i];\n      var element = document.createElement('script');\n      element.onload = on_load;\n      element.onerror = on_error;\n      element.async = false;\n      element.src = url;\n      if (url in hashes) {\n        element.crossOrigin = \"anonymous\";\n        element.integrity = \"sha384-\" + hashes[url];\n      }\n      console.debug(\"Bokeh: injecting script tag for BokehJS library: \", url);\n      document.head.appendChild(element);\n    }\n  };\n\n  function inject_raw_css(css) {\n    const element = document.createElement(\"style\");\n    element.appendChild(document.createTextNode(css));\n    document.body.appendChild(element);\n  }\n\n  \n  var js_urls = [\"https://cdn.bokeh.org/bokeh/release/bokeh-2.2.3.min.js\", \"https://cdn.bokeh.org/bokeh/release/bokeh-widgets-2.2.3.min.js\", \"https://cdn.bokeh.org/bokeh/release/bokeh-tables-2.2.3.min.js\"];\n  var css_urls = [];\n  \n\n  var inline_js = [\n    function(Bokeh) {\n      Bokeh.set_log_level(\"info\");\n    },\n    function(Bokeh) {\n    \n    \n    }\n  ];\n\n  function run_inline_js() {\n    \n    if (root.Bokeh !== undefined || force === true) {\n      \n    for (var i = 0; i < inline_js.length; i++) {\n      inline_js[i].call(root, root.Bokeh);\n    }\n    if (force === true) {\n        display_loaded();\n      }} else if (Date.now() < root._bokeh_timeout) {\n      setTimeout(run_inline_js, 100);\n    } else if (!root._bokeh_failed_load) {\n      console.log(\"Bokeh: BokehJS failed to load within specified timeout.\");\n      root._bokeh_failed_load = true;\n    } else if (force !== true) {\n      var cell = $(document.getElementById(\"1002\")).parents('.cell').data().cell;\n      cell.output_area.append_execute_result(NB_LOAD_WARNING)\n    }\n\n  }\n\n  if (root._bokeh_is_loading === 0) {\n    console.debug(\"Bokeh: BokehJS loaded, going straight to plotting\");\n    run_inline_js();\n  } else {\n    load_libs(css_urls, js_urls, function() {\n      console.debug(\"Bokeh: BokehJS plotting callback run at\", now());\n      run_inline_js();\n    });\n  }\n}(window));"
     },
     "metadata": {}
    }
   ],
   "source": [
    "from bokeh.io import output_notebook, show\n",
    "output_notebook()"
   ]
  },
  {
   "cell_type": "code",
   "execution_count": 30,
   "metadata": {},
   "outputs": [],
   "source": [
    "from bokeh.plotting import figure\n",
    "from bokeh.models import ColumnDataSource, FactorRange, Legend\n",
    "\n",
    "source = ColumnDataSource(df_norm)\n",
    "p = figure(plot_width=1000, plot_height=400, x_range = FactorRange(factors=list(map(str,df_norm['Hour'].values.tolist()))), title=\"Crimes By Hour\", x_axis_label='Hour of The Day', y_axis_label='Relative Frequency')"
   ]
  },
  {
   "cell_type": "markdown",
   "metadata": {},
   "source": [
    "X axis is 24-hour which is set by 'FactorRange', a Range of values for a categorical dimesion. Other parameters are configured to set up a Bokeh figure."
   ]
  },
  {
   "cell_type": "code",
   "execution_count": 32,
   "metadata": {},
   "outputs": [],
   "source": [
    "from bokeh.palettes import Category20\n",
    "\n",
    "bar = {}\n",
    "items = []\n",
    "for indx,(i,color) in enumerate(zip(focuscrimes, Category20[14])):\n",
    "    bar[i] = p.vbar(x='Hour', top=i, source=source, alpha=1, color=color, muted_alpha=0.08, muted_color=color, muted=True)\n",
    "    items.append((i, [bar[i]]))\n",
    "legend = Legend(items=items, location=(0,-30))"
   ]
  },
  {
   "cell_type": "markdown",
   "metadata": {},
   "source": [
    "To construct a bar plot, both x-axis and y-axis is selected from the Dataframe. 'alpha' decides the color depth. 'muted_color' and 'muted_alpha' are set for the interactive mode is 'Muted'."
   ]
  },
  {
   "cell_type": "code",
   "execution_count": 34,
   "metadata": {},
   "outputs": [
    {
     "output_type": "display_data",
     "data": {
      "text/html": "\n\n\n\n\n\n  <div class=\"bk-root\" id=\"6fca8f07-dfb4-4948-89d0-57360e4bd16e\" data-root-id=\"1038\"></div>\n"
     },
     "metadata": {}
    },
    {
     "output_type": "display_data",
     "data": {
      "application/javascript": "(function(root) {\n  function embed_document(root) {\n    \n  var docs_json = {\"4f439940-4ea0-479c-a8be-1879a2fe1f9a\":{\"roots\":{\"references\":[{\"attributes\":{\"below\":[{\"id\":\"1048\"}],\"center\":[{\"id\":\"1050\"},{\"id\":\"1054\"}],\"left\":[{\"id\":\"1051\"}],\"plot_height\":400,\"plot_width\":1000,\"renderers\":[{\"id\":\"1073\"},{\"id\":\"1079\"},{\"id\":\"1085\"},{\"id\":\"1091\"},{\"id\":\"1097\"},{\"id\":\"1103\"},{\"id\":\"1109\"},{\"id\":\"1115\"},{\"id\":\"1121\"},{\"id\":\"1127\"},{\"id\":\"1133\"},{\"id\":\"1139\"},{\"id\":\"1145\"},{\"id\":\"1151\"},{\"id\":\"1172\"},{\"id\":\"1178\"},{\"id\":\"1184\"},{\"id\":\"1190\"},{\"id\":\"1196\"},{\"id\":\"1202\"},{\"id\":\"1208\"},{\"id\":\"1214\"},{\"id\":\"1220\"},{\"id\":\"1226\"},{\"id\":\"1232\"},{\"id\":\"1238\"},{\"id\":\"1244\"},{\"id\":\"1250\"}],\"right\":[{\"id\":\"1252\"},{\"id\":\"1252\"}],\"title\":{\"id\":\"1039\"},\"toolbar\":{\"id\":\"1062\"},\"x_range\":{\"id\":\"1037\"},\"x_scale\":{\"id\":\"1044\"},\"y_range\":{\"id\":\"1042\"},\"y_scale\":{\"id\":\"1046\"}},\"id\":\"1038\",\"subtype\":\"Figure\",\"type\":\"Plot\"},{\"attributes\":{\"fill_alpha\":{\"value\":0.08},\"fill_color\":{\"value\":\"#8c564b\"},\"line_alpha\":{\"value\":0.08},\"line_color\":{\"value\":\"#8c564b\"},\"top\":{\"field\":\"VANDALISM\"},\"x\":{\"field\":\"Hour\"}},\"id\":\"1231\",\"type\":\"VBar\"},{\"attributes\":{\"fill_alpha\":{\"value\":0.1},\"fill_color\":{\"value\":\"#8c564b\"},\"line_alpha\":{\"value\":0.1},\"line_color\":{\"value\":\"#8c564b\"},\"top\":{\"field\":\"VANDALISM\"},\"x\":{\"field\":\"Hour\"}},\"id\":\"1230\",\"type\":\"VBar\"},{\"attributes\":{\"fill_color\":{\"value\":\"#c49c94\"},\"line_color\":{\"value\":\"#c49c94\"},\"top\":{\"field\":\"VEHICLE THEFT\"},\"x\":{\"field\":\"Hour\"}},\"id\":\"1235\",\"type\":\"VBar\"},{\"attributes\":{\"fill_alpha\":{\"value\":0.1},\"fill_color\":{\"value\":\"#c49c94\"},\"line_alpha\":{\"value\":0.1},\"line_color\":{\"value\":\"#c49c94\"},\"top\":{\"field\":\"VEHICLE THEFT\"},\"x\":{\"field\":\"Hour\"}},\"id\":\"1236\",\"type\":\"VBar\"},{\"attributes\":{\"data_source\":{\"id\":\"1036\"},\"glyph\":{\"id\":\"1229\"},\"hover_glyph\":null,\"muted\":true,\"muted_glyph\":{\"id\":\"1231\"},\"nonselection_glyph\":{\"id\":\"1230\"},\"selection_glyph\":null,\"view\":{\"id\":\"1233\"}},\"id\":\"1232\",\"type\":\"GlyphRenderer\"},{\"attributes\":{\"source\":{\"id\":\"1036\"}},\"id\":\"1233\",\"type\":\"CDSView\"},{\"attributes\":{\"fill_alpha\":{\"value\":0.08},\"fill_color\":{\"value\":\"#c49c94\"},\"line_alpha\":{\"value\":0.08},\"line_color\":{\"value\":\"#c49c94\"},\"top\":{\"field\":\"VEHICLE THEFT\"},\"x\":{\"field\":\"Hour\"}},\"id\":\"1237\",\"type\":\"VBar\"},{\"attributes\":{\"fill_color\":{\"value\":\"#e377c2\"},\"line_color\":{\"value\":\"#e377c2\"},\"top\":{\"field\":\"STOLEN PROPERTY\"},\"x\":{\"field\":\"Hour\"}},\"id\":\"1241\",\"type\":\"VBar\"},{\"attributes\":{\"fill_alpha\":{\"value\":0.1},\"fill_color\":{\"value\":\"#e377c2\"},\"line_alpha\":{\"value\":0.1},\"line_color\":{\"value\":\"#e377c2\"},\"top\":{\"field\":\"STOLEN PROPERTY\"},\"x\":{\"field\":\"Hour\"}},\"id\":\"1242\",\"type\":\"VBar\"},{\"attributes\":{\"data_source\":{\"id\":\"1036\"},\"glyph\":{\"id\":\"1235\"},\"hover_glyph\":null,\"muted\":true,\"muted_glyph\":{\"id\":\"1237\"},\"nonselection_glyph\":{\"id\":\"1236\"},\"selection_glyph\":null,\"view\":{\"id\":\"1239\"}},\"id\":\"1238\",\"type\":\"GlyphRenderer\"},{\"attributes\":{\"source\":{\"id\":\"1036\"}},\"id\":\"1239\",\"type\":\"CDSView\"},{\"attributes\":{},\"id\":\"1272\",\"type\":\"Selection\"},{\"attributes\":{},\"id\":\"1273\",\"type\":\"UnionRenderers\"},{\"attributes\":{\"fill_alpha\":{\"value\":0.08},\"fill_color\":{\"value\":\"#e377c2\"},\"line_alpha\":{\"value\":0.08},\"line_color\":{\"value\":\"#e377c2\"},\"top\":{\"field\":\"STOLEN PROPERTY\"},\"x\":{\"field\":\"Hour\"}},\"id\":\"1243\",\"type\":\"VBar\"},{\"attributes\":{\"fill_color\":{\"value\":\"#f7b6d2\"},\"line_color\":{\"value\":\"#f7b6d2\"},\"top\":{\"field\":\"DISORDERLY CONDUCT\"},\"x\":{\"field\":\"Hour\"}},\"id\":\"1247\",\"type\":\"VBar\"},{\"attributes\":{\"fill_alpha\":{\"value\":0.1},\"fill_color\":{\"value\":\"#f7b6d2\"},\"line_alpha\":{\"value\":0.1},\"line_color\":{\"value\":\"#f7b6d2\"},\"top\":{\"field\":\"DISORDERLY CONDUCT\"},\"x\":{\"field\":\"Hour\"}},\"id\":\"1248\",\"type\":\"VBar\"},{\"attributes\":{\"data_source\":{\"id\":\"1036\"},\"glyph\":{\"id\":\"1241\"},\"hover_glyph\":null,\"muted\":true,\"muted_glyph\":{\"id\":\"1243\"},\"nonselection_glyph\":{\"id\":\"1242\"},\"selection_glyph\":null,\"view\":{\"id\":\"1245\"}},\"id\":\"1244\",\"type\":\"GlyphRenderer\"},{\"attributes\":{\"source\":{\"id\":\"1036\"}},\"id\":\"1245\",\"type\":\"CDSView\"},{\"attributes\":{\"factors\":[\"1\",\"2\",\"3\",\"4\",\"5\",\"6\",\"7\",\"8\",\"9\",\"10\",\"11\",\"12\",\"13\",\"14\",\"15\",\"16\",\"17\",\"18\",\"19\",\"20\",\"21\",\"22\",\"23\",\"24\"]},\"id\":\"1037\",\"type\":\"FactorRange\"},{\"attributes\":{\"fill_alpha\":{\"value\":0.08},\"fill_color\":{\"value\":\"#f7b6d2\"},\"line_alpha\":{\"value\":0.08},\"line_color\":{\"value\":\"#f7b6d2\"},\"top\":{\"field\":\"DISORDERLY CONDUCT\"},\"x\":{\"field\":\"Hour\"}},\"id\":\"1249\",\"type\":\"VBar\"},{\"attributes\":{\"label\":{\"value\":\"PROSTITUTION\"},\"renderers\":[{\"id\":\"1178\"}]},\"id\":\"1254\",\"type\":\"LegendItem\"},{\"attributes\":{\"label\":{\"value\":\"WEAPON LAWS\"},\"renderers\":[{\"id\":\"1172\"}]},\"id\":\"1253\",\"type\":\"LegendItem\"},{\"attributes\":{\"data_source\":{\"id\":\"1036\"},\"glyph\":{\"id\":\"1247\"},\"hover_glyph\":null,\"muted\":true,\"muted_glyph\":{\"id\":\"1249\"},\"nonselection_glyph\":{\"id\":\"1248\"},\"selection_glyph\":null,\"view\":{\"id\":\"1251\"}},\"id\":\"1250\",\"type\":\"GlyphRenderer\"},{\"attributes\":{\"source\":{\"id\":\"1036\"}},\"id\":\"1251\",\"type\":\"CDSView\"},{\"attributes\":{\"label\":{\"value\":\"DRIVING UNDER THE INFLUENCE\"},\"renderers\":[{\"id\":\"1184\"}]},\"id\":\"1255\",\"type\":\"LegendItem\"},{\"attributes\":{\"label\":{\"value\":\"ROBBERY\"},\"renderers\":[{\"id\":\"1190\"}]},\"id\":\"1256\",\"type\":\"LegendItem\"},{\"attributes\":{\"label\":{\"value\":\"BURGLARY\"},\"renderers\":[{\"id\":\"1196\"}]},\"id\":\"1257\",\"type\":\"LegendItem\"},{\"attributes\":{\"label\":{\"value\":\"ASSAULT\"},\"renderers\":[{\"id\":\"1202\"}]},\"id\":\"1258\",\"type\":\"LegendItem\"},{\"attributes\":{\"label\":{\"value\":\"DRUNKENNESS\"},\"renderers\":[{\"id\":\"1208\"}]},\"id\":\"1259\",\"type\":\"LegendItem\"},{\"attributes\":{\"label\":{\"value\":\"DRUG/NARCOTIC\"},\"renderers\":[{\"id\":\"1214\"}]},\"id\":\"1260\",\"type\":\"LegendItem\"},{\"attributes\":{},\"id\":\"1271\",\"type\":\"CategoricalTickFormatter\"},{\"attributes\":{\"fill_alpha\":{\"value\":0.08},\"fill_color\":{\"value\":\"#e377c2\"},\"line_alpha\":{\"value\":0.08},\"line_color\":{\"value\":\"#e377c2\"},\"top\":{\"field\":\"STOLEN PROPERTY\"},\"x\":{\"field\":\"Hour\"}},\"id\":\"1144\",\"type\":\"VBar\"},{\"attributes\":{\"fill_color\":{\"value\":\"#f7b6d2\"},\"line_color\":{\"value\":\"#f7b6d2\"},\"top\":{\"field\":\"DISORDERLY CONDUCT\"},\"x\":{\"field\":\"Hour\"}},\"id\":\"1148\",\"type\":\"VBar\"},{\"attributes\":{\"source\":{\"id\":\"1036\"}},\"id\":\"1227\",\"type\":\"CDSView\"},{\"attributes\":{\"fill_alpha\":{\"value\":0.1},\"fill_color\":{\"value\":\"#2ca02c\"},\"line_alpha\":{\"value\":0.1},\"line_color\":{\"value\":\"#2ca02c\"},\"top\":{\"field\":\"BURGLARY\"},\"x\":{\"field\":\"Hour\"}},\"id\":\"1095\",\"type\":\"VBar\"},{\"attributes\":{\"fill_alpha\":{\"value\":0.08},\"fill_color\":{\"value\":\"#f7b6d2\"},\"line_alpha\":{\"value\":0.08},\"line_color\":{\"value\":\"#f7b6d2\"},\"top\":{\"field\":\"DISORDERLY CONDUCT\"},\"x\":{\"field\":\"Hour\"}},\"id\":\"1150\",\"type\":\"VBar\"},{\"attributes\":{\"data_source\":{\"id\":\"1036\"},\"glyph\":{\"id\":\"1193\"},\"hover_glyph\":null,\"muted\":true,\"muted_glyph\":{\"id\":\"1195\"},\"nonselection_glyph\":{\"id\":\"1194\"},\"selection_glyph\":null,\"view\":{\"id\":\"1197\"}},\"id\":\"1196\",\"type\":\"GlyphRenderer\"},{\"attributes\":{},\"id\":\"1060\",\"type\":\"HelpTool\"},{\"attributes\":{\"label\":{\"value\":\"VEHICLE THEFT\"},\"renderers\":[{\"id\":\"1238\"}]},\"id\":\"1264\",\"type\":\"LegendItem\"},{\"attributes\":{\"source\":{\"id\":\"1036\"}},\"id\":\"1179\",\"type\":\"CDSView\"},{\"attributes\":{\"data_source\":{\"id\":\"1036\"},\"glyph\":{\"id\":\"1100\"},\"hover_glyph\":null,\"muted\":true,\"muted_glyph\":{\"id\":\"1102\"},\"nonselection_glyph\":{\"id\":\"1101\"},\"selection_glyph\":null,\"view\":{\"id\":\"1104\"}},\"id\":\"1103\",\"type\":\"GlyphRenderer\"},{\"attributes\":{\"fill_alpha\":{\"value\":0.1},\"fill_color\":{\"value\":\"#f7b6d2\"},\"line_alpha\":{\"value\":0.1},\"line_color\":{\"value\":\"#f7b6d2\"},\"top\":{\"field\":\"DISORDERLY CONDUCT\"},\"x\":{\"field\":\"Hour\"}},\"id\":\"1149\",\"type\":\"VBar\"},{\"attributes\":{\"fill_color\":{\"value\":\"#ff7f0e\"},\"line_color\":{\"value\":\"#ff7f0e\"},\"top\":{\"field\":\"DRIVING UNDER THE INFLUENCE\"},\"x\":{\"field\":\"Hour\"}},\"id\":\"1181\",\"type\":\"VBar\"},{\"attributes\":{\"click_policy\":\"mute\",\"items\":[{\"id\":\"1253\"},{\"id\":\"1254\"},{\"id\":\"1255\"},{\"id\":\"1256\"},{\"id\":\"1257\"},{\"id\":\"1258\"},{\"id\":\"1259\"},{\"id\":\"1260\"},{\"id\":\"1261\"},{\"id\":\"1262\"},{\"id\":\"1263\"},{\"id\":\"1264\"},{\"id\":\"1265\"},{\"id\":\"1266\"}],\"location\":[0,-30]},\"id\":\"1252\",\"type\":\"Legend\"},{\"attributes\":{},\"id\":\"1059\",\"type\":\"ResetTool\"},{\"attributes\":{\"overlay\":{\"id\":\"1061\"}},\"id\":\"1057\",\"type\":\"BoxZoomTool\"},{\"attributes\":{\"fill_color\":{\"value\":\"#1f77b4\"},\"line_color\":{\"value\":\"#1f77b4\"},\"top\":{\"field\":\"WEAPON LAWS\"},\"x\":{\"field\":\"Hour\"}},\"id\":\"1169\",\"type\":\"VBar\"},{\"attributes\":{\"data_source\":{\"id\":\"1036\"},\"glyph\":{\"id\":\"1148\"},\"hover_glyph\":null,\"muted\":true,\"muted_glyph\":{\"id\":\"1150\"},\"nonselection_glyph\":{\"id\":\"1149\"},\"selection_glyph\":null,\"view\":{\"id\":\"1152\"}},\"id\":\"1151\",\"type\":\"GlyphRenderer\"},{\"attributes\":{},\"id\":\"1058\",\"type\":\"SaveTool\"},{\"attributes\":{\"fill_alpha\":{\"value\":0.08},\"fill_color\":{\"value\":\"#98df8a\"},\"line_alpha\":{\"value\":0.08},\"line_color\":{\"value\":\"#98df8a\"},\"top\":{\"field\":\"ASSAULT\"},\"x\":{\"field\":\"Hour\"}},\"id\":\"1102\",\"type\":\"VBar\"},{\"attributes\":{\"fill_alpha\":{\"value\":0.1},\"fill_color\":{\"value\":\"#9467bd\"},\"line_alpha\":{\"value\":0.1},\"line_color\":{\"value\":\"#9467bd\"},\"top\":{\"field\":\"TRESPASS\"},\"x\":{\"field\":\"Hour\"}},\"id\":\"1119\",\"type\":\"VBar\"},{\"attributes\":{\"source\":{\"id\":\"1036\"}},\"id\":\"1152\",\"type\":\"CDSView\"},{\"attributes\":{\"fill_alpha\":{\"value\":0.08},\"fill_color\":{\"value\":\"#2ca02c\"},\"line_alpha\":{\"value\":0.08},\"line_color\":{\"value\":\"#2ca02c\"},\"top\":{\"field\":\"BURGLARY\"},\"x\":{\"field\":\"Hour\"}},\"id\":\"1096\",\"type\":\"VBar\"},{\"attributes\":{\"source\":{\"id\":\"1036\"}},\"id\":\"1116\",\"type\":\"CDSView\"},{\"attributes\":{\"fill_alpha\":{\"value\":0.08},\"fill_color\":{\"value\":\"#1f77b4\"},\"line_alpha\":{\"value\":0.08},\"line_color\":{\"value\":\"#1f77b4\"},\"top\":{\"field\":\"WEAPON LAWS\"},\"x\":{\"field\":\"Hour\"}},\"id\":\"1171\",\"type\":\"VBar\"},{\"attributes\":{\"fill_color\":{\"value\":\"#1f77b4\"},\"line_color\":{\"value\":\"#1f77b4\"},\"top\":{\"field\":\"WEAPON LAWS\"},\"x\":{\"field\":\"Hour\"}},\"id\":\"1070\",\"type\":\"VBar\"},{\"attributes\":{\"source\":{\"id\":\"1036\"}},\"id\":\"1104\",\"type\":\"CDSView\"},{\"attributes\":{\"data_source\":{\"id\":\"1036\"},\"glyph\":{\"id\":\"1112\"},\"hover_glyph\":null,\"muted\":true,\"muted_glyph\":{\"id\":\"1114\"},\"nonselection_glyph\":{\"id\":\"1113\"},\"selection_glyph\":null,\"view\":{\"id\":\"1116\"}},\"id\":\"1115\",\"type\":\"GlyphRenderer\"},{\"attributes\":{\"fill_color\":{\"value\":\"#9467bd\"},\"line_color\":{\"value\":\"#9467bd\"},\"top\":{\"field\":\"TRESPASS\"},\"x\":{\"field\":\"Hour\"}},\"id\":\"1118\",\"type\":\"VBar\"},{\"attributes\":{\"fill_alpha\":{\"value\":0.1},\"fill_color\":{\"value\":\"#1f77b4\"},\"line_alpha\":{\"value\":0.1},\"line_color\":{\"value\":\"#1f77b4\"},\"top\":{\"field\":\"WEAPON LAWS\"},\"x\":{\"field\":\"Hour\"}},\"id\":\"1071\",\"type\":\"VBar\"},{\"attributes\":{\"fill_color\":{\"value\":\"#d62728\"},\"line_color\":{\"value\":\"#d62728\"},\"top\":{\"field\":\"DRUNKENNESS\"},\"x\":{\"field\":\"Hour\"}},\"id\":\"1106\",\"type\":\"VBar\"},{\"attributes\":{\"data_source\":{\"id\":\"1036\"},\"glyph\":{\"id\":\"1187\"},\"hover_glyph\":null,\"muted\":true,\"muted_glyph\":{\"id\":\"1189\"},\"nonselection_glyph\":{\"id\":\"1188\"},\"selection_glyph\":null,\"view\":{\"id\":\"1191\"}},\"id\":\"1190\",\"type\":\"GlyphRenderer\"},{\"attributes\":{\"fill_color\":{\"value\":\"#aec7e8\"},\"line_color\":{\"value\":\"#aec7e8\"},\"top\":{\"field\":\"PROSTITUTION\"},\"x\":{\"field\":\"Hour\"}},\"id\":\"1076\",\"type\":\"VBar\"},{\"attributes\":{\"data_source\":{\"id\":\"1036\"},\"glyph\":{\"id\":\"1094\"},\"hover_glyph\":null,\"muted\":true,\"muted_glyph\":{\"id\":\"1096\"},\"nonselection_glyph\":{\"id\":\"1095\"},\"selection_glyph\":null,\"view\":{\"id\":\"1098\"}},\"id\":\"1097\",\"type\":\"GlyphRenderer\"},{\"attributes\":{\"fill_alpha\":{\"value\":0.08},\"fill_color\":{\"value\":\"#aec7e8\"},\"line_alpha\":{\"value\":0.08},\"line_color\":{\"value\":\"#aec7e8\"},\"top\":{\"field\":\"PROSTITUTION\"},\"x\":{\"field\":\"Hour\"}},\"id\":\"1078\",\"type\":\"VBar\"},{\"attributes\":{\"fill_color\":{\"value\":\"#2ca02c\"},\"line_color\":{\"value\":\"#2ca02c\"},\"top\":{\"field\":\"BURGLARY\"},\"x\":{\"field\":\"Hour\"}},\"id\":\"1193\",\"type\":\"VBar\"},{\"attributes\":{\"data\":{\"ASSAULT\":{\"__ndarray__\":\"ePIBiALkrD/TgDDGXaCoPyZKwO+iYKY/Y6fhOqD6lz+KhiM5hdSNP6B7yk61x4k/HgvGxrk6kD9X9fA+OTiXP/L5AXP9KaE/Z6MQRQZkoj8CIn2NnX+kP9tpsbcU0KU/q5IRpWMjqz8lJt4SAi2nP8dXeAHfqqc/xevRavwPqj++9y9HEEiqPzShPhkZgqs/KHiGVJqMqj/2lgK6kueqPwP2DcqCqqo/OgyoBR19qz8WSbv9XjWqPyNV4SHY+Kg/\",\"dtype\":\"float64\",\"order\":\"little\",\"shape\":[24]},\"BURGLARY\":{\"__ndarray__\":\"GKeW/Sa0pD+JOtl2CZ6cP6YUYkUQOaA/JkvSE4EkoT9OvOPtPpueP9i0x58O3Zo/7Ihl93Tplz+ETNJGp1ygP3dkH50LtKg/8ySaFJftpj9Yws5k3ymlP1O5uarbTqQ/CXA7hK4aqj+LfDSIs/igP+qljwOuYKM/W6SWl9pDpj/eUPy8MOGpP/xS4NMLrLA/f9fqsI0ZsT/1B3AIXnarP4MJaXQxk6g/wWkmMPevpz9YVvyIycGmP/beBv+916Q/\",\"dtype\":\"float64\",\"order\":\"little\",\"shape\":[24]},\"DISORDERLY CONDUCT\":{\"__ndarray__\":\"TnmwXnd0qj9zkUdV/najP1ujcoysj6A/Y/7N8Ue2kj+t64mzvfiOP+sUM9oWb64//sO7vNp8vj+gUeJnlPi5PxImnOgqMrM/Xgwqwi01qz/gc12mei+lP4pc37bP0aI/49wU3PvUnz/3PvUHTIqkPyk+3ABw5Z0/mMwbswUGoD+7W8av8yycPwG9jdRnPZo/qF+VFrzGoD8YiCU2OZiZP4t/HB5QXpY/dLSEvH4Dlz96yWVTGRGiPxVCq2c4f6I/\",\"dtype\":\"float64\",\"order\":\"little\",\"shape\":[24]},\"DRIVING UNDER THE INFLUENCE\":{\"__ndarray__\":\"zZ7k+1jNvj9XRwkRMKy8P1SZsA2CU7k/AcPK6WVWqD/6ZhnjCaWRP3RsTdHgHoc/jhlIAuuNiT/6ZhnjCaWBP24QnMqEbYA/qMZCM/X8iz9bv1Kg1q90P0ESWG/MQII/oWqRLJlLhT8Bw8rpZVaIP6jGQjP1/Is/FBQUFBQUlD/xH9rCZfGfP29nSMzbGaI//L3F5GBRoz//ax7oDqqmP01zDnst960/tLvaVkcJsT8j7ROvG863P8xHOPoBIb0/\",\"dtype\":\"float64\",\"order\":\"little\",\"shape\":[24]},\"DRUG/NARCOTIC\":{\"__ndarray__\":\"faElFCXBoT8oDIOp6iyVP45WW9V8K5E/aIVDPTtgiT9p4FmuSdaCP6I3M5sAOHU/psimbs0ghj+/tRTZ1K2ZPyt96hwP9KA/IORQMA+boz9GcKNZWEGkP/+J690zV6c/3Sk7uRZTqz8IVwfmAHOvP2SZufhfAa8/kmr0kWr0sT9dP72p3zS0P5gRuWdNLrU/u/yRjfVasj+xJjZKZyWvP+Caoiw7Gqc/eBptnuqooz8LM4v6B0GnP0RqWIcWgaQ/\",\"dtype\":\"float64\",\"order\":\"little\",\"shape\":[24]},\"DRUNKENNESS\":{\"__ndarray__\":\"LbT9tG2qtD9PszZQPLKzP4o4jOQpA7I/PPD8m+eNmz8K5MOpqfuMPzYtGlcdaXQ/b802/hrHgj82LRpXHWmUP6HZb/BYWZE/BCHhZN/WlT/gPG/cINyWP8W94XgXVKA/5v9RIesAnj/Y14q3a2meP6w3xX/4CqE/MmOofD2DpD/n0FKR4KemP7H6p8TCL6g/NFwZ5yfCqz94WosdxdGpP8Ib4JgsBq8/zFHFLdcfsD9WRxoF/H2zP1ZHGgX8fbM/\",\"dtype\":\"float64\",\"order\":\"little\",\"shape\":[24]},\"Hour\":[1,2,3,4,5,6,7,8,9,10,11,12,13,14,15,16,17,18,19,20,21,22,23,24],\"LARCENY/THEFT\":{\"__ndarray__\":\"bZnR5Tc0pD//6wQc9eGZP6zNFUM5pY8/pT89/jljhD9seHHYId56P4f/pv33Lns/+jQCUiGIhD8iqiPK1M6OP4rPct+3mJo/fmF+IZdjoD8wI6vB/BmlP7PmmgIKu6c/gLet/jnGrD+Nt0f6EM+pP1FZKg9vgao/ELMCT4hMrD8JAxv0pu+tP0LfyvXLI7E/MMdJbWlLtT80D1RCrjK0P+oBMYeLyLE/RtHOBh32rD8WqycBQwyrP15pJXgukqc/\",\"dtype\":\"float64\",\"order\":\"little\",\"shape\":[24]},\"PROSTITUTION\":{\"__ndarray__\":\"x5kGwbKiwD8M9Hiuap64Pzgfg/MxOK8/uxK1K1G7oj/7E7A/AfuTP9Zd9gGvsYQ/juyWNkoggT+ypzzEXGh1P9Zd9gGvsXQ/aDvJSLjVZj9DhQ8LZox3P/oYnI/B+Yg/5AAhxX0toz8wrx48feaMPx/PVc0TQ5g/uhehexG6lz+VYec9v3CYPzkal6NxOZo/TfCHclrfpD8i5kKrwNizPyo14uRHl7A/2ZqUrUnZqj+8M3qpfk64P+5rmSxygMA/\",\"dtype\":\"float64\",\"order\":\"little\",\"shape\":[24]},\"ROBBERY\":{\"__ndarray__\":\"iHa2eRpVrD+1pL332LyuP5ZaumWY5a4/gE3mpskioz/GzUfscA2YP/Y8u4/j15M/9IFkB9qIkj8pZ4W7X/GQP6vAlpx+O5Q/0foOM0uslj+alwyo5uqaP7yYTN/Ks54/NZAyH9Qyoj980x6zUCejP9jyt/2iAKQ/07l/nrpYpT+x8Zo1myioP7VrYikUJKg/HLSo19o+qj8zS6wWunKrP7WkvffYvK4/o9AhmPKhsT8m7b3H5vWwP8BfzqEpKrA/\",\"dtype\":\"float64\",\"order\":\"little\",\"shape\":[24]},\"STOLEN PROPERTY\":{\"__ndarray__\":\"9anfyZnEpj966bbuRC6hP5hCDznKK54/EaKV4WwGmD/EKZzYd4iUP3rptu5ELpE/g5HzS4uZkT8guvp8N7mYP3xKWSH36Zw/ZGEpFfYzoD+W4WwGGHCiP+nJjk2RNaY/S8oVMNWtqj9tMvSFLDesP41+SMyirq0/hw4gjh5nrT/AGhbNpfyvP2eLeKzHTrA/ck8/Ge/LsD9nwstHqO+rPy621QghWqk/FfYzEBA8qD8EwkRlZHenP8INEsmWdqQ/\",\"dtype\":\"float64\",\"order\":\"little\",\"shape\":[24]},\"TRESPASS\":{\"__ndarray__\":\"57mkxcwSnT9f8kxdZ/eUPwwANnpKL5o/bYs7lBnOlT/AfVJ3NpaQP3KVlTemhaM/U14LeHv8sj8QuE/qzsayP+offgJJirA/57mkxcwSrT+Fs75e8cOpP3ca0Cc/7ag/wiHT3UbWqj8oCXPOqkypP+Y+xHjAYqU/NnnB61iTpz9yvjVRqhWmP/TXsq9yOaY/NVAh0lQDpT+8c/jTqd6iPyzBjD4v5KE/yuNG8VcloT9cY9MG5++eP6EOPOZZAZ4/\",\"dtype\":\"float64\",\"order\":\"little\",\"shape\":[24]},\"VANDALISM\":{\"__ndarray__\":\"TqAoh2jlqz8yjehTBY2jP/pkh7kDM6I/bw/q82CHmj9dwhHW6yKSP9yhpbWaDI4/6Ja+AfF5kT+/L+LI0hyWP2eAVoDaEaA/IE512FOJnj+SHCYnJUSgPzTaRAMwcZ4/Q1uxCxhGpD+DcwoHQFagP87ItxK5AKI/Bvk7GLpfpT+jo9Rm0XSnPy6YDT/U364/wAKxYbissj+AVoDaEZCxP53Foqv30bA/+z95vejHsD8K6ZTdzbWwP4Or//Q7ea4/\",\"dtype\":\"float64\",\"order\":\"little\",\"shape\":[24]},\"VEHICLE THEFT\":{\"__ndarray__\":\"c+ggyxZpoj9YPmqBJcmYP74l0odSspI/MI4DJJuPiD+jRWBRQ6OEPyA0UtJWjoQ/51UoFKt3jz/f6NfTITGXPw7rQUzY7aA/nzHn+7D1oD9g9Q+mwhSgP2eYG9Npypw/d/yZIKkWpj8OwTDc0MWeP23FBM09P6I/VW9PwfcGpj8KrbeGPhirPxhCGxRQorE/F81W0FhrtT8CQGdGtdGyP21gYsPMdrQ/J7wQ2qCAsj8/jd9naRO0P0UlwKk5dLA/\",\"dtype\":\"float64\",\"order\":\"little\",\"shape\":[24]},\"WEAPON LAWS\":{\"__ndarray__\":\"8nZe4h38qz9XW0yf4jekP40nh97oY6E/jGHJbQdQmD+A3BijaKGQP276w+2vOIE/TQdDjJX5hz9ngH67hgiWPwkW1jDr/Jg/24melO8UoD/6tmGFKECgP4O23IOMr6E/x+GLblWYpz8GPBJQx+6nP7Elc9h4Iac/nmC/as8uqz/yk/8pLXKvP8n1kd6Xkq8/Y5y3okH9sD93a25IDO2wP3XCUR86T6s/75yaAfrtqj94ubZHbdOvP72NglsIWqs/\",\"dtype\":\"float64\",\"order\":\"little\",\"shape\":[24]},\"index\":[0,1,2,3,4,5,6,7,8,9,10,11,12,13,14,15,16,17,18,19,20,21,22,23]},\"selected\":{\"id\":\"1272\"},\"selection_policy\":{\"id\":\"1273\"}},\"id\":\"1036\",\"type\":\"ColumnDataSource\"},{\"attributes\":{\"fill_alpha\":{\"value\":0.08},\"fill_color\":{\"value\":\"#1f77b4\"},\"line_alpha\":{\"value\":0.08},\"line_color\":{\"value\":\"#1f77b4\"},\"top\":{\"field\":\"WEAPON LAWS\"},\"x\":{\"field\":\"Hour\"}},\"id\":\"1072\",\"type\":\"VBar\"},{\"attributes\":{\"data_source\":{\"id\":\"1036\"},\"glyph\":{\"id\":\"1070\"},\"hover_glyph\":null,\"muted\":true,\"muted_glyph\":{\"id\":\"1072\"},\"nonselection_glyph\":{\"id\":\"1071\"},\"selection_glyph\":null,\"view\":{\"id\":\"1074\"}},\"id\":\"1073\",\"type\":\"GlyphRenderer\"},{\"attributes\":{\"fill_alpha\":{\"value\":0.08},\"fill_color\":{\"value\":\"#ffbb78\"},\"line_alpha\":{\"value\":0.08},\"line_color\":{\"value\":\"#ffbb78\"},\"top\":{\"field\":\"ROBBERY\"},\"x\":{\"field\":\"Hour\"}},\"id\":\"1189\",\"type\":\"VBar\"},{\"attributes\":{\"source\":{\"id\":\"1036\"}},\"id\":\"1146\",\"type\":\"CDSView\"},{\"attributes\":{\"source\":{\"id\":\"1036\"}},\"id\":\"1074\",\"type\":\"CDSView\"},{\"attributes\":{\"fill_alpha\":{\"value\":0.1},\"fill_color\":{\"value\":\"#98df8a\"},\"line_alpha\":{\"value\":0.1},\"line_color\":{\"value\":\"#98df8a\"},\"top\":{\"field\":\"ASSAULT\"},\"x\":{\"field\":\"Hour\"}},\"id\":\"1101\",\"type\":\"VBar\"},{\"attributes\":{\"fill_alpha\":{\"value\":0.1},\"fill_color\":{\"value\":\"#aec7e8\"},\"line_alpha\":{\"value\":0.1},\"line_color\":{\"value\":\"#aec7e8\"},\"top\":{\"field\":\"PROSTITUTION\"},\"x\":{\"field\":\"Hour\"}},\"id\":\"1077\",\"type\":\"VBar\"},{\"attributes\":{\"fill_color\":{\"value\":\"#ff7f0e\"},\"line_color\":{\"value\":\"#ff7f0e\"},\"top\":{\"field\":\"DRIVING UNDER THE INFLUENCE\"},\"x\":{\"field\":\"Hour\"}},\"id\":\"1082\",\"type\":\"VBar\"},{\"attributes\":{\"fill_alpha\":{\"value\":0.1},\"fill_color\":{\"value\":\"#ff7f0e\"},\"line_alpha\":{\"value\":0.1},\"line_color\":{\"value\":\"#ff7f0e\"},\"top\":{\"field\":\"DRIVING UNDER THE INFLUENCE\"},\"x\":{\"field\":\"Hour\"}},\"id\":\"1083\",\"type\":\"VBar\"},{\"attributes\":{\"source\":{\"id\":\"1036\"}},\"id\":\"1098\",\"type\":\"CDSView\"},{\"attributes\":{\"fill_color\":{\"value\":\"#ffbb78\"},\"line_color\":{\"value\":\"#ffbb78\"},\"top\":{\"field\":\"ROBBERY\"},\"x\":{\"field\":\"Hour\"}},\"id\":\"1187\",\"type\":\"VBar\"},{\"attributes\":{\"data_source\":{\"id\":\"1036\"},\"glyph\":{\"id\":\"1076\"},\"hover_glyph\":null,\"muted\":true,\"muted_glyph\":{\"id\":\"1078\"},\"nonselection_glyph\":{\"id\":\"1077\"},\"selection_glyph\":null,\"view\":{\"id\":\"1080\"}},\"id\":\"1079\",\"type\":\"GlyphRenderer\"},{\"attributes\":{\"text\":\"Crimes By Hour\"},\"id\":\"1039\",\"type\":\"Title\"},{\"attributes\":{\"source\":{\"id\":\"1036\"}},\"id\":\"1080\",\"type\":\"CDSView\"},{\"attributes\":{\"fill_color\":{\"value\":\"#98df8a\"},\"line_color\":{\"value\":\"#98df8a\"},\"top\":{\"field\":\"ASSAULT\"},\"x\":{\"field\":\"Hour\"}},\"id\":\"1100\",\"type\":\"VBar\"},{\"attributes\":{\"fill_alpha\":{\"value\":0.08},\"fill_color\":{\"value\":\"#ff9896\"},\"line_alpha\":{\"value\":0.08},\"line_color\":{\"value\":\"#ff9896\"},\"top\":{\"field\":\"DRUG/NARCOTIC\"},\"x\":{\"field\":\"Hour\"}},\"id\":\"1114\",\"type\":\"VBar\"},{\"attributes\":{\"source\":{\"id\":\"1036\"}},\"id\":\"1191\",\"type\":\"CDSView\"},{\"attributes\":{},\"id\":\"1042\",\"type\":\"DataRange1d\"},{\"attributes\":{\"fill_alpha\":{\"value\":0.08},\"fill_color\":{\"value\":\"#ff7f0e\"},\"line_alpha\":{\"value\":0.08},\"line_color\":{\"value\":\"#ff7f0e\"},\"top\":{\"field\":\"DRIVING UNDER THE INFLUENCE\"},\"x\":{\"field\":\"Hour\"}},\"id\":\"1084\",\"type\":\"VBar\"},{\"attributes\":{\"bottom_units\":\"screen\",\"fill_alpha\":0.5,\"fill_color\":\"lightgrey\",\"left_units\":\"screen\",\"level\":\"overlay\",\"line_alpha\":1.0,\"line_color\":\"black\",\"line_dash\":[4,4],\"line_width\":2,\"right_units\":\"screen\",\"top_units\":\"screen\"},\"id\":\"1061\",\"type\":\"BoxAnnotation\"},{\"attributes\":{\"data_source\":{\"id\":\"1036\"},\"glyph\":{\"id\":\"1169\"},\"hover_glyph\":null,\"muted\":true,\"muted_glyph\":{\"id\":\"1171\"},\"nonselection_glyph\":{\"id\":\"1170\"},\"selection_glyph\":null,\"view\":{\"id\":\"1173\"}},\"id\":\"1172\",\"type\":\"GlyphRenderer\"},{\"attributes\":{\"fill_color\":{\"value\":\"#ffbb78\"},\"line_color\":{\"value\":\"#ffbb78\"},\"top\":{\"field\":\"ROBBERY\"},\"x\":{\"field\":\"Hour\"}},\"id\":\"1088\",\"type\":\"VBar\"},{\"attributes\":{\"fill_alpha\":{\"value\":0.1},\"fill_color\":{\"value\":\"#d62728\"},\"line_alpha\":{\"value\":0.1},\"line_color\":{\"value\":\"#d62728\"},\"top\":{\"field\":\"DRUNKENNESS\"},\"x\":{\"field\":\"Hour\"}},\"id\":\"1107\",\"type\":\"VBar\"},{\"attributes\":{\"fill_alpha\":{\"value\":0.1},\"fill_color\":{\"value\":\"#ffbb78\"},\"line_alpha\":{\"value\":0.1},\"line_color\":{\"value\":\"#ffbb78\"},\"top\":{\"field\":\"ROBBERY\"},\"x\":{\"field\":\"Hour\"}},\"id\":\"1089\",\"type\":\"VBar\"},{\"attributes\":{\"fill_alpha\":{\"value\":0.1},\"fill_color\":{\"value\":\"#ff9896\"},\"line_alpha\":{\"value\":0.1},\"line_color\":{\"value\":\"#ff9896\"},\"top\":{\"field\":\"DRUG/NARCOTIC\"},\"x\":{\"field\":\"Hour\"}},\"id\":\"1113\",\"type\":\"VBar\"},{\"attributes\":{\"fill_color\":{\"value\":\"#98df8a\"},\"line_color\":{\"value\":\"#98df8a\"},\"top\":{\"field\":\"ASSAULT\"},\"x\":{\"field\":\"Hour\"}},\"id\":\"1199\",\"type\":\"VBar\"},{\"attributes\":{\"data_source\":{\"id\":\"1036\"},\"glyph\":{\"id\":\"1082\"},\"hover_glyph\":null,\"muted\":true,\"muted_glyph\":{\"id\":\"1084\"},\"nonselection_glyph\":{\"id\":\"1083\"},\"selection_glyph\":null,\"view\":{\"id\":\"1086\"}},\"id\":\"1085\",\"type\":\"GlyphRenderer\"},{\"attributes\":{\"source\":{\"id\":\"1036\"}},\"id\":\"1086\",\"type\":\"CDSView\"},{\"attributes\":{\"fill_color\":{\"value\":\"#aec7e8\"},\"line_color\":{\"value\":\"#aec7e8\"},\"top\":{\"field\":\"PROSTITUTION\"},\"x\":{\"field\":\"Hour\"}},\"id\":\"1175\",\"type\":\"VBar\"},{\"attributes\":{\"source\":{\"id\":\"1036\"}},\"id\":\"1110\",\"type\":\"CDSView\"},{\"attributes\":{},\"id\":\"1046\",\"type\":\"LinearScale\"},{\"attributes\":{\"source\":{\"id\":\"1036\"}},\"id\":\"1173\",\"type\":\"CDSView\"},{\"attributes\":{\"fill_alpha\":{\"value\":0.08},\"fill_color\":{\"value\":\"#ffbb78\"},\"line_alpha\":{\"value\":0.08},\"line_color\":{\"value\":\"#ffbb78\"},\"top\":{\"field\":\"ROBBERY\"},\"x\":{\"field\":\"Hour\"}},\"id\":\"1090\",\"type\":\"VBar\"},{\"attributes\":{\"axis\":{\"id\":\"1051\"},\"dimension\":1,\"ticker\":null},\"id\":\"1054\",\"type\":\"Grid\"},{\"attributes\":{\"fill_alpha\":{\"value\":0.1},\"fill_color\":{\"value\":\"#98df8a\"},\"line_alpha\":{\"value\":0.1},\"line_color\":{\"value\":\"#98df8a\"},\"top\":{\"field\":\"ASSAULT\"},\"x\":{\"field\":\"Hour\"}},\"id\":\"1200\",\"type\":\"VBar\"},{\"attributes\":{\"source\":{\"id\":\"1036\"}},\"id\":\"1122\",\"type\":\"CDSView\"},{\"attributes\":{\"fill_alpha\":{\"value\":0.1},\"fill_color\":{\"value\":\"#1f77b4\"},\"line_alpha\":{\"value\":0.1},\"line_color\":{\"value\":\"#1f77b4\"},\"top\":{\"field\":\"WEAPON LAWS\"},\"x\":{\"field\":\"Hour\"}},\"id\":\"1170\",\"type\":\"VBar\"},{\"attributes\":{\"fill_color\":{\"value\":\"#2ca02c\"},\"line_color\":{\"value\":\"#2ca02c\"},\"top\":{\"field\":\"BURGLARY\"},\"x\":{\"field\":\"Hour\"}},\"id\":\"1094\",\"type\":\"VBar\"},{\"attributes\":{\"fill_alpha\":{\"value\":0.08},\"fill_color\":{\"value\":\"#2ca02c\"},\"line_alpha\":{\"value\":0.08},\"line_color\":{\"value\":\"#2ca02c\"},\"top\":{\"field\":\"BURGLARY\"},\"x\":{\"field\":\"Hour\"}},\"id\":\"1195\",\"type\":\"VBar\"},{\"attributes\":{},\"id\":\"1056\",\"type\":\"WheelZoomTool\"},{\"attributes\":{\"axis_label\":\"Hour of The Day\",\"formatter\":{\"id\":\"1271\"},\"ticker\":{\"id\":\"1049\"}},\"id\":\"1048\",\"type\":\"CategoricalAxis\"},{\"attributes\":{\"label\":{\"value\":\"STOLEN PROPERTY\"},\"renderers\":[{\"id\":\"1244\"}]},\"id\":\"1265\",\"type\":\"LegendItem\"},{\"attributes\":{\"axis_label\":\"Relative Frequency\",\"formatter\":{\"id\":\"1269\"},\"ticker\":{\"id\":\"1052\"}},\"id\":\"1051\",\"type\":\"LinearAxis\"},{\"attributes\":{\"data_source\":{\"id\":\"1036\"},\"glyph\":{\"id\":\"1106\"},\"hover_glyph\":null,\"muted\":true,\"muted_glyph\":{\"id\":\"1108\"},\"nonselection_glyph\":{\"id\":\"1107\"},\"selection_glyph\":null,\"view\":{\"id\":\"1110\"}},\"id\":\"1109\",\"type\":\"GlyphRenderer\"},{\"attributes\":{\"label\":{\"value\":\"DISORDERLY CONDUCT\"},\"renderers\":[{\"id\":\"1250\"}]},\"id\":\"1266\",\"type\":\"LegendItem\"},{\"attributes\":{\"data_source\":{\"id\":\"1036\"},\"glyph\":{\"id\":\"1088\"},\"hover_glyph\":null,\"muted\":true,\"muted_glyph\":{\"id\":\"1090\"},\"nonselection_glyph\":{\"id\":\"1089\"},\"selection_glyph\":null,\"view\":{\"id\":\"1092\"}},\"id\":\"1091\",\"type\":\"GlyphRenderer\"},{\"attributes\":{},\"id\":\"1052\",\"type\":\"BasicTicker\"},{\"attributes\":{\"fill_alpha\":{\"value\":0.08},\"fill_color\":{\"value\":\"#98df8a\"},\"line_alpha\":{\"value\":0.08},\"line_color\":{\"value\":\"#98df8a\"},\"top\":{\"field\":\"ASSAULT\"},\"x\":{\"field\":\"Hour\"}},\"id\":\"1201\",\"type\":\"VBar\"},{\"attributes\":{\"source\":{\"id\":\"1036\"}},\"id\":\"1092\",\"type\":\"CDSView\"},{\"attributes\":{\"fill_alpha\":{\"value\":0.1},\"fill_color\":{\"value\":\"#2ca02c\"},\"line_alpha\":{\"value\":0.1},\"line_color\":{\"value\":\"#2ca02c\"},\"top\":{\"field\":\"BURGLARY\"},\"x\":{\"field\":\"Hour\"}},\"id\":\"1194\",\"type\":\"VBar\"},{\"attributes\":{\"source\":{\"id\":\"1036\"}},\"id\":\"1185\",\"type\":\"CDSView\"},{\"attributes\":{\"source\":{\"id\":\"1036\"}},\"id\":\"1197\",\"type\":\"CDSView\"},{\"attributes\":{\"axis\":{\"id\":\"1048\"},\"ticker\":null},\"id\":\"1050\",\"type\":\"Grid\"},{\"attributes\":{\"fill_alpha\":{\"value\":0.08},\"fill_color\":{\"value\":\"#d62728\"},\"line_alpha\":{\"value\":0.08},\"line_color\":{\"value\":\"#d62728\"},\"top\":{\"field\":\"DRUNKENNESS\"},\"x\":{\"field\":\"Hour\"}},\"id\":\"1108\",\"type\":\"VBar\"},{\"attributes\":{},\"id\":\"1044\",\"type\":\"CategoricalScale\"},{\"attributes\":{\"fill_alpha\":{\"value\":0.08},\"fill_color\":{\"value\":\"#9467bd\"},\"line_alpha\":{\"value\":0.08},\"line_color\":{\"value\":\"#9467bd\"},\"top\":{\"field\":\"TRESPASS\"},\"x\":{\"field\":\"Hour\"}},\"id\":\"1120\",\"type\":\"VBar\"},{\"attributes\":{\"fill_color\":{\"value\":\"#d62728\"},\"line_color\":{\"value\":\"#d62728\"},\"top\":{\"field\":\"DRUNKENNESS\"},\"x\":{\"field\":\"Hour\"}},\"id\":\"1205\",\"type\":\"VBar\"},{\"attributes\":{\"fill_color\":{\"value\":\"#c5b0d5\"},\"line_color\":{\"value\":\"#c5b0d5\"},\"top\":{\"field\":\"LARCENY/THEFT\"},\"x\":{\"field\":\"Hour\"}},\"id\":\"1124\",\"type\":\"VBar\"},{\"attributes\":{\"fill_alpha\":{\"value\":0.1},\"fill_color\":{\"value\":\"#d62728\"},\"line_alpha\":{\"value\":0.1},\"line_color\":{\"value\":\"#d62728\"},\"top\":{\"field\":\"DRUNKENNESS\"},\"x\":{\"field\":\"Hour\"}},\"id\":\"1206\",\"type\":\"VBar\"},{\"attributes\":{},\"id\":\"1049\",\"type\":\"CategoricalTicker\"},{\"attributes\":{\"label\":{\"value\":\"VANDALISM\"},\"renderers\":[{\"id\":\"1232\"}]},\"id\":\"1263\",\"type\":\"LegendItem\"},{\"attributes\":{\"fill_color\":{\"value\":\"#ff9896\"},\"line_color\":{\"value\":\"#ff9896\"},\"top\":{\"field\":\"DRUG/NARCOTIC\"},\"x\":{\"field\":\"Hour\"}},\"id\":\"1112\",\"type\":\"VBar\"},{\"attributes\":{\"data_source\":{\"id\":\"1036\"},\"glyph\":{\"id\":\"1199\"},\"hover_glyph\":null,\"muted\":true,\"muted_glyph\":{\"id\":\"1201\"},\"nonselection_glyph\":{\"id\":\"1200\"},\"selection_glyph\":null,\"view\":{\"id\":\"1203\"}},\"id\":\"1202\",\"type\":\"GlyphRenderer\"},{\"attributes\":{\"data_source\":{\"id\":\"1036\"},\"glyph\":{\"id\":\"1181\"},\"hover_glyph\":null,\"muted\":true,\"muted_glyph\":{\"id\":\"1183\"},\"nonselection_glyph\":{\"id\":\"1182\"},\"selection_glyph\":null,\"view\":{\"id\":\"1185\"}},\"id\":\"1184\",\"type\":\"GlyphRenderer\"},{\"attributes\":{\"source\":{\"id\":\"1036\"}},\"id\":\"1203\",\"type\":\"CDSView\"},{\"attributes\":{},\"id\":\"1055\",\"type\":\"PanTool\"},{\"attributes\":{\"fill_alpha\":{\"value\":0.1},\"fill_color\":{\"value\":\"#c5b0d5\"},\"line_alpha\":{\"value\":0.1},\"line_color\":{\"value\":\"#c5b0d5\"},\"top\":{\"field\":\"LARCENY/THEFT\"},\"x\":{\"field\":\"Hour\"}},\"id\":\"1125\",\"type\":\"VBar\"},{\"attributes\":{\"data_source\":{\"id\":\"1036\"},\"glyph\":{\"id\":\"1118\"},\"hover_glyph\":null,\"muted\":true,\"muted_glyph\":{\"id\":\"1120\"},\"nonselection_glyph\":{\"id\":\"1119\"},\"selection_glyph\":null,\"view\":{\"id\":\"1122\"}},\"id\":\"1121\",\"type\":\"GlyphRenderer\"},{\"attributes\":{\"fill_alpha\":{\"value\":0.08},\"fill_color\":{\"value\":\"#d62728\"},\"line_alpha\":{\"value\":0.08},\"line_color\":{\"value\":\"#d62728\"},\"top\":{\"field\":\"DRUNKENNESS\"},\"x\":{\"field\":\"Hour\"}},\"id\":\"1207\",\"type\":\"VBar\"},{\"attributes\":{\"active_drag\":\"auto\",\"active_inspect\":\"auto\",\"active_multi\":null,\"active_scroll\":\"auto\",\"active_tap\":\"auto\",\"tools\":[{\"id\":\"1055\"},{\"id\":\"1056\"},{\"id\":\"1057\"},{\"id\":\"1058\"},{\"id\":\"1059\"},{\"id\":\"1060\"}]},\"id\":\"1062\",\"type\":\"Toolbar\"},{\"attributes\":{\"fill_alpha\":{\"value\":0.1},\"fill_color\":{\"value\":\"#ffbb78\"},\"line_alpha\":{\"value\":0.1},\"line_color\":{\"value\":\"#ffbb78\"},\"top\":{\"field\":\"ROBBERY\"},\"x\":{\"field\":\"Hour\"}},\"id\":\"1188\",\"type\":\"VBar\"},{\"attributes\":{\"fill_alpha\":{\"value\":0.08},\"fill_color\":{\"value\":\"#ff9896\"},\"line_alpha\":{\"value\":0.08},\"line_color\":{\"value\":\"#ff9896\"},\"top\":{\"field\":\"DRUG/NARCOTIC\"},\"x\":{\"field\":\"Hour\"}},\"id\":\"1213\",\"type\":\"VBar\"},{\"attributes\":{\"fill_alpha\":{\"value\":0.08},\"fill_color\":{\"value\":\"#c5b0d5\"},\"line_alpha\":{\"value\":0.08},\"line_color\":{\"value\":\"#c5b0d5\"},\"top\":{\"field\":\"LARCENY/THEFT\"},\"x\":{\"field\":\"Hour\"}},\"id\":\"1126\",\"type\":\"VBar\"},{\"attributes\":{\"fill_color\":{\"value\":\"#8c564b\"},\"line_color\":{\"value\":\"#8c564b\"},\"top\":{\"field\":\"VANDALISM\"},\"x\":{\"field\":\"Hour\"}},\"id\":\"1130\",\"type\":\"VBar\"},{\"attributes\":{\"fill_color\":{\"value\":\"#ff9896\"},\"line_color\":{\"value\":\"#ff9896\"},\"top\":{\"field\":\"DRUG/NARCOTIC\"},\"x\":{\"field\":\"Hour\"}},\"id\":\"1211\",\"type\":\"VBar\"},{\"attributes\":{\"data_source\":{\"id\":\"1036\"},\"glyph\":{\"id\":\"1205\"},\"hover_glyph\":null,\"muted\":true,\"muted_glyph\":{\"id\":\"1207\"},\"nonselection_glyph\":{\"id\":\"1206\"},\"selection_glyph\":null,\"view\":{\"id\":\"1209\"}},\"id\":\"1208\",\"type\":\"GlyphRenderer\"},{\"attributes\":{\"fill_alpha\":{\"value\":0.1},\"fill_color\":{\"value\":\"#8c564b\"},\"line_alpha\":{\"value\":0.1},\"line_color\":{\"value\":\"#8c564b\"},\"top\":{\"field\":\"VANDALISM\"},\"x\":{\"field\":\"Hour\"}},\"id\":\"1131\",\"type\":\"VBar\"},{\"attributes\":{\"fill_alpha\":{\"value\":0.1},\"fill_color\":{\"value\":\"#aec7e8\"},\"line_alpha\":{\"value\":0.1},\"line_color\":{\"value\":\"#aec7e8\"},\"top\":{\"field\":\"PROSTITUTION\"},\"x\":{\"field\":\"Hour\"}},\"id\":\"1176\",\"type\":\"VBar\"},{\"attributes\":{\"fill_alpha\":{\"value\":0.08},\"fill_color\":{\"value\":\"#ff7f0e\"},\"line_alpha\":{\"value\":0.08},\"line_color\":{\"value\":\"#ff7f0e\"},\"top\":{\"field\":\"DRIVING UNDER THE INFLUENCE\"},\"x\":{\"field\":\"Hour\"}},\"id\":\"1183\",\"type\":\"VBar\"},{\"attributes\":{\"source\":{\"id\":\"1036\"}},\"id\":\"1209\",\"type\":\"CDSView\"},{\"attributes\":{\"data_source\":{\"id\":\"1036\"},\"glyph\":{\"id\":\"1124\"},\"hover_glyph\":null,\"muted\":true,\"muted_glyph\":{\"id\":\"1126\"},\"nonselection_glyph\":{\"id\":\"1125\"},\"selection_glyph\":null,\"view\":{\"id\":\"1128\"}},\"id\":\"1127\",\"type\":\"GlyphRenderer\"},{\"attributes\":{\"label\":{\"value\":\"LARCENY/THEFT\"},\"renderers\":[{\"id\":\"1226\"}]},\"id\":\"1262\",\"type\":\"LegendItem\"},{\"attributes\":{\"source\":{\"id\":\"1036\"}},\"id\":\"1128\",\"type\":\"CDSView\"},{\"attributes\":{\"fill_alpha\":{\"value\":0.1},\"fill_color\":{\"value\":\"#ff9896\"},\"line_alpha\":{\"value\":0.1},\"line_color\":{\"value\":\"#ff9896\"},\"top\":{\"field\":\"DRUG/NARCOTIC\"},\"x\":{\"field\":\"Hour\"}},\"id\":\"1212\",\"type\":\"VBar\"},{\"attributes\":{\"fill_alpha\":{\"value\":0.08},\"fill_color\":{\"value\":\"#8c564b\"},\"line_alpha\":{\"value\":0.08},\"line_color\":{\"value\":\"#8c564b\"},\"top\":{\"field\":\"VANDALISM\"},\"x\":{\"field\":\"Hour\"}},\"id\":\"1132\",\"type\":\"VBar\"},{\"attributes\":{\"fill_color\":{\"value\":\"#9467bd\"},\"line_color\":{\"value\":\"#9467bd\"},\"top\":{\"field\":\"TRESPASS\"},\"x\":{\"field\":\"Hour\"}},\"id\":\"1217\",\"type\":\"VBar\"},{\"attributes\":{\"fill_color\":{\"value\":\"#c49c94\"},\"line_color\":{\"value\":\"#c49c94\"},\"top\":{\"field\":\"VEHICLE THEFT\"},\"x\":{\"field\":\"Hour\"}},\"id\":\"1136\",\"type\":\"VBar\"},{\"attributes\":{\"fill_alpha\":{\"value\":0.1},\"fill_color\":{\"value\":\"#9467bd\"},\"line_alpha\":{\"value\":0.1},\"line_color\":{\"value\":\"#9467bd\"},\"top\":{\"field\":\"TRESPASS\"},\"x\":{\"field\":\"Hour\"}},\"id\":\"1218\",\"type\":\"VBar\"},{\"attributes\":{\"fill_alpha\":{\"value\":0.1},\"fill_color\":{\"value\":\"#c49c94\"},\"line_alpha\":{\"value\":0.1},\"line_color\":{\"value\":\"#c49c94\"},\"top\":{\"field\":\"VEHICLE THEFT\"},\"x\":{\"field\":\"Hour\"}},\"id\":\"1137\",\"type\":\"VBar\"},{\"attributes\":{\"data_source\":{\"id\":\"1036\"},\"glyph\":{\"id\":\"1211\"},\"hover_glyph\":null,\"muted\":true,\"muted_glyph\":{\"id\":\"1213\"},\"nonselection_glyph\":{\"id\":\"1212\"},\"selection_glyph\":null,\"view\":{\"id\":\"1215\"}},\"id\":\"1214\",\"type\":\"GlyphRenderer\"},{\"attributes\":{\"fill_alpha\":{\"value\":0.1},\"fill_color\":{\"value\":\"#ff7f0e\"},\"line_alpha\":{\"value\":0.1},\"line_color\":{\"value\":\"#ff7f0e\"},\"top\":{\"field\":\"DRIVING UNDER THE INFLUENCE\"},\"x\":{\"field\":\"Hour\"}},\"id\":\"1182\",\"type\":\"VBar\"},{\"attributes\":{\"source\":{\"id\":\"1036\"}},\"id\":\"1134\",\"type\":\"CDSView\"},{\"attributes\":{\"source\":{\"id\":\"1036\"}},\"id\":\"1215\",\"type\":\"CDSView\"},{\"attributes\":{\"data_source\":{\"id\":\"1036\"},\"glyph\":{\"id\":\"1142\"},\"hover_glyph\":null,\"muted\":true,\"muted_glyph\":{\"id\":\"1144\"},\"nonselection_glyph\":{\"id\":\"1143\"},\"selection_glyph\":null,\"view\":{\"id\":\"1146\"}},\"id\":\"1145\",\"type\":\"GlyphRenderer\"},{\"attributes\":{\"data_source\":{\"id\":\"1036\"},\"glyph\":{\"id\":\"1130\"},\"hover_glyph\":null,\"muted\":true,\"muted_glyph\":{\"id\":\"1132\"},\"nonselection_glyph\":{\"id\":\"1131\"},\"selection_glyph\":null,\"view\":{\"id\":\"1134\"}},\"id\":\"1133\",\"type\":\"GlyphRenderer\"},{\"attributes\":{\"source\":{\"id\":\"1036\"}},\"id\":\"1221\",\"type\":\"CDSView\"},{\"attributes\":{\"data_source\":{\"id\":\"1036\"},\"glyph\":{\"id\":\"1175\"},\"hover_glyph\":null,\"muted\":true,\"muted_glyph\":{\"id\":\"1177\"},\"nonselection_glyph\":{\"id\":\"1176\"},\"selection_glyph\":null,\"view\":{\"id\":\"1179\"}},\"id\":\"1178\",\"type\":\"GlyphRenderer\"},{\"attributes\":{\"fill_alpha\":{\"value\":0.08},\"fill_color\":{\"value\":\"#9467bd\"},\"line_alpha\":{\"value\":0.08},\"line_color\":{\"value\":\"#9467bd\"},\"top\":{\"field\":\"TRESPASS\"},\"x\":{\"field\":\"Hour\"}},\"id\":\"1219\",\"type\":\"VBar\"},{\"attributes\":{\"fill_alpha\":{\"value\":0.08},\"fill_color\":{\"value\":\"#c49c94\"},\"line_alpha\":{\"value\":0.08},\"line_color\":{\"value\":\"#c49c94\"},\"top\":{\"field\":\"VEHICLE THEFT\"},\"x\":{\"field\":\"Hour\"}},\"id\":\"1138\",\"type\":\"VBar\"},{\"attributes\":{\"data_source\":{\"id\":\"1036\"},\"glyph\":{\"id\":\"1217\"},\"hover_glyph\":null,\"muted\":true,\"muted_glyph\":{\"id\":\"1219\"},\"nonselection_glyph\":{\"id\":\"1218\"},\"selection_glyph\":null,\"view\":{\"id\":\"1221\"}},\"id\":\"1220\",\"type\":\"GlyphRenderer\"},{\"attributes\":{\"fill_color\":{\"value\":\"#c5b0d5\"},\"line_color\":{\"value\":\"#c5b0d5\"},\"top\":{\"field\":\"LARCENY/THEFT\"},\"x\":{\"field\":\"Hour\"}},\"id\":\"1223\",\"type\":\"VBar\"},{\"attributes\":{\"data_source\":{\"id\":\"1036\"},\"glyph\":{\"id\":\"1136\"},\"hover_glyph\":null,\"muted\":true,\"muted_glyph\":{\"id\":\"1138\"},\"nonselection_glyph\":{\"id\":\"1137\"},\"selection_glyph\":null,\"view\":{\"id\":\"1140\"}},\"id\":\"1139\",\"type\":\"GlyphRenderer\"},{\"attributes\":{\"source\":{\"id\":\"1036\"}},\"id\":\"1140\",\"type\":\"CDSView\"},{\"attributes\":{\"fill_alpha\":{\"value\":0.1},\"fill_color\":{\"value\":\"#c5b0d5\"},\"line_alpha\":{\"value\":0.1},\"line_color\":{\"value\":\"#c5b0d5\"},\"top\":{\"field\":\"LARCENY/THEFT\"},\"x\":{\"field\":\"Hour\"}},\"id\":\"1224\",\"type\":\"VBar\"},{\"attributes\":{\"fill_alpha\":{\"value\":0.08},\"fill_color\":{\"value\":\"#c5b0d5\"},\"line_alpha\":{\"value\":0.08},\"line_color\":{\"value\":\"#c5b0d5\"},\"top\":{\"field\":\"LARCENY/THEFT\"},\"x\":{\"field\":\"Hour\"}},\"id\":\"1225\",\"type\":\"VBar\"},{\"attributes\":{\"fill_alpha\":{\"value\":0.1},\"fill_color\":{\"value\":\"#e377c2\"},\"line_alpha\":{\"value\":0.1},\"line_color\":{\"value\":\"#e377c2\"},\"top\":{\"field\":\"STOLEN PROPERTY\"},\"x\":{\"field\":\"Hour\"}},\"id\":\"1143\",\"type\":\"VBar\"},{\"attributes\":{\"fill_color\":{\"value\":\"#8c564b\"},\"line_color\":{\"value\":\"#8c564b\"},\"top\":{\"field\":\"VANDALISM\"},\"x\":{\"field\":\"Hour\"}},\"id\":\"1229\",\"type\":\"VBar\"},{\"attributes\":{\"label\":{\"value\":\"TRESPASS\"},\"renderers\":[{\"id\":\"1220\"}]},\"id\":\"1261\",\"type\":\"LegendItem\"},{\"attributes\":{\"fill_color\":{\"value\":\"#e377c2\"},\"line_color\":{\"value\":\"#e377c2\"},\"top\":{\"field\":\"STOLEN PROPERTY\"},\"x\":{\"field\":\"Hour\"}},\"id\":\"1142\",\"type\":\"VBar\"},{\"attributes\":{\"fill_alpha\":{\"value\":0.08},\"fill_color\":{\"value\":\"#aec7e8\"},\"line_alpha\":{\"value\":0.08},\"line_color\":{\"value\":\"#aec7e8\"},\"top\":{\"field\":\"PROSTITUTION\"},\"x\":{\"field\":\"Hour\"}},\"id\":\"1177\",\"type\":\"VBar\"},{\"attributes\":{\"data_source\":{\"id\":\"1036\"},\"glyph\":{\"id\":\"1223\"},\"hover_glyph\":null,\"muted\":true,\"muted_glyph\":{\"id\":\"1225\"},\"nonselection_glyph\":{\"id\":\"1224\"},\"selection_glyph\":null,\"view\":{\"id\":\"1227\"}},\"id\":\"1226\",\"type\":\"GlyphRenderer\"},{\"attributes\":{},\"id\":\"1269\",\"type\":\"BasicTickFormatter\"}],\"root_ids\":[\"1038\"]},\"title\":\"Bokeh Application\",\"version\":\"2.2.3\"}};\n  var render_items = [{\"docid\":\"4f439940-4ea0-479c-a8be-1879a2fe1f9a\",\"root_ids\":[\"1038\"],\"roots\":{\"1038\":\"6fca8f07-dfb4-4948-89d0-57360e4bd16e\"}}];\n  root.Bokeh.embed.embed_items_notebook(docs_json, render_items);\n\n  }\n  if (root.Bokeh !== undefined) {\n    embed_document(root);\n  } else {\n    var attempts = 0;\n    var timer = setInterval(function(root) {\n      if (root.Bokeh !== undefined) {\n        clearInterval(timer);\n        embed_document(root);\n      } else {\n        attempts++;\n        if (attempts > 100) {\n          clearInterval(timer);\n          console.log(\"Bokeh: ERROR: Unable to run BokehJS code because BokehJS library is missing\");\n        }\n      }\n    }, 10, root)\n  }\n})(window);",
      "application/vnd.bokehjs_exec.v0+json": ""
     },
     "metadata": {
      "application/vnd.bokehjs_exec.v0+json": {
       "id": "1038"
      }
     }
    }
   ],
   "source": [
    "p.add_layout(legend, \"right\")\n",
    "p.legend.click_policy=\"mute\"\n",
    "show(p)"
   ]
  },
  {
   "cell_type": "markdown",
   "metadata": {},
   "source": [
    "Legend is configured separately and can be clicked to mute specific bar."
   ]
  }
 ],
 "metadata": {
  "kernelspec": {
   "name": "python385jvsc74a57bd0693707b17ee1c5ed8a3c9e331d34565bc1c4ee05c6ff581ada1c6a1e2aea56a9",
   "display_name": "Python 3.8.5 64-bit (conda)"
  },
  "language_info": {
   "codemirror_mode": {
    "name": "ipython",
    "version": 3
   },
   "file_extension": ".py",
   "mimetype": "text/x-python",
   "name": "python",
   "nbconvert_exporter": "python",
   "pygments_lexer": "ipython3",
   "version": "3.8.5-final"
  }
 },
 "nbformat": 4,
 "nbformat_minor": 2
}