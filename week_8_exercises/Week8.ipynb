{
 "cells": [
  {
   "cell_type": "markdown",
   "id": "valuable-former",
   "metadata": {},
   "source": [
    "# Week 8 - Interactive dataviz and Setting up a webpage"
   ]
  },
  {
   "cell_type": "markdown",
   "id": "bacterial-worthy",
   "metadata": {},
   "source": [
    "## Part 1: More on narrative data visualisation"
   ]
  },
  {
   "cell_type": "markdown",
   "id": "divine-magnitude",
   "metadata": {},
   "source": [
    "***Exercise 1.1***\n",
    "\n",
    "*What is the point of figure 7?*"
   ]
  },
  {
   "cell_type": "markdown",
   "id": "prerequisite-repository",
   "metadata": {},
   "source": [
    "***Answer:*** *The point with the figure is that a lot of different genres of presention all have som ordering of the data element, and an interactive element of the data visualisation. However, most of them actually fail in (3) giving the user a tutorial on how to use it, or (4) don't use enough messaging to clearly narrate the story*\n",
    "___"
   ]
  },
  {
   "cell_type": "markdown",
   "id": "irish-desert",
   "metadata": {},
   "source": [
    "***Exercise 1.2***\n",
    "\n",
    "*Use Figure 7 to find the most common design choice within each category for the Visual narrative and Narrative structure (the categories within visual narrative are 'visual struturing', 'highlighting', etc.)*"
   ]
  },
  {
   "cell_type": "markdown",
   "id": "soviet-bloom",
   "metadata": {},
   "source": [
    "***Answer:*** \n",
    "\n",
    "*The most common design choices in each category is:*\n",
    "\n",
    "- **Visual narrative**\n",
    "    - *Visual structuring*\n",
    "        - *Consistent Visual Platform*\n",
    "    - *Highlighting*\n",
    "        - *Feature distinction*\n",
    "    - *Transition guidance*\n",
    "        - *Object continuity*\n",
    "- **Narrative structure***\n",
    "    - *Ordering*\n",
    "        - *User directed path*\n",
    "    - *Interactivity*\n",
    "        - *Filtering / Selection / Search*\n",
    "    - *Messaging*"
   ]
  }
 ],
 "metadata": {
  "kernelspec": {
   "display_name": "Python 3",
   "language": "python",
   "name": "python3"
  },
  "language_info": {
   "codemirror_mode": {
    "name": "ipython",
    "version": 3
   },
   "file_extension": ".py",
   "mimetype": "text/x-python",
   "name": "python",
   "nbconvert_exporter": "python",
   "pygments_lexer": "ipython3",
   "version": "3.5.6"
  }
 },
 "nbformat": 4,
 "nbformat_minor": 5
}
